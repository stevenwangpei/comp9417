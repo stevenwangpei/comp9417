{
 "cells": [
  {
   "cell_type": "code",
   "execution_count": 1,
   "metadata": {},
   "outputs": [],
   "source": [
    "# Load libraries\n",
    "import numpy as np\n",
    "import pandas as pd\n",
    "from sklearn.naive_bayes import MultinomialNB, BernoulliNB\n",
    "from sklearn.tree import DecisionTreeClassifier\n",
    "from sklearn.feature_extraction.text import CountVectorizer\n",
    "from sklearn.metrics import accuracy_score, precision_score, recall_score, f1_score, classification_report\n",
    "from sklearn.model_selection import KFold, cross_val_score, train_test_split\n",
    "from sklearn.cluster import KMeans\n",
    "import collections"
   ]
  },
  {
   "cell_type": "code",
   "execution_count": 2,
   "metadata": {},
   "outputs": [],
   "source": [
    "# Import text data\n",
    "raw_training = pd.read_csv(\"training.csv\")\n",
    "raw_testing = pd.read_csv(\"test.csv\")\n",
    "\n",
    "# Create bag of words\n",
    "count = CountVectorizer()\n",
    "bag_of_words = count.fit_transform(raw_training[\"article_words\"])\n",
    "\n",
    "# Create feature matrix\n",
    "X = bag_of_words\n",
    "\n",
    "# Create bag of words\n",
    "y = raw_training[\"topic\"].apply(hash)\n",
    "\n",
    "# Create number of clusters\n",
    "y_clusters = len(raw_training.groupby(\"topic\").count())\n",
    "\n",
    "# testing y\n",
    "y_valid = raw_testing[\"topic\"].apply(hash)\n",
    "\n",
    "#transform testing data\n",
    "X_valid = count.transform(raw_testing[\"article_words\"])\n",
    "\n",
    "#######################Resampling Dataset#######################\n",
    "\n",
    "\n",
    "# Reducing the effect imbalnced by deleting some irrelevant class\n",
    "# \"Irrelevant\" classe has 4734 samples in the training data, try to reduce it into 2000\n",
    "irrelevant = raw_training[raw_training[\"topic\"] == \"IRRELEVANT\"]\n",
    "remove_n = 2734\n",
    "drop_indices = np.random.choice(irrelevant.index, remove_n, replace=False)\n",
    "irrelevant = irrelevant.drop(drop_indices)\n",
    "\n",
    "reduce_training =  pd.concat([raw_training[raw_training[\"topic\"] != \"IRRELEVANT\"], irrelevant],ignore_index=True)\n",
    "reduce_bag_of_words = count.fit_transform(reduce_training[\"article_words\"])\n",
    "R_X = reduce_bag_of_words\n",
    "R_y = reduce_training[\"topic\"].apply(hash)\n",
    "# Create number of clusters\n",
    "R_y_clusters = len(reduce_training.groupby(\"topic\").count())\n",
    "#transform testing data\n",
    "R_X_valid = count.transform(raw_testing[\"article_words\"])\n",
    "\n",
    "# Icreasing the minor classes\n",
    "# Increasing \n",
    "topic_class = raw_training[raw_training[\"topic\"] != \"IRRELEVANT\"]\n",
    "increase_training = pd.concat([topic_class, topic_class, topic_class, raw_training[raw_training[\"topic\"] == \"IRRELEVANT\"]], ignore_index=True)\n",
    "increase_bag_of_words = count.fit_transform(increase_training[\"article_words\"])\n",
    "I_X = increase_bag_of_words\n",
    "I_y = increase_training[\"topic\"].apply(hash)\n",
    "# Create number of clusters\n",
    "I_y_clusters = len(increase_training.groupby(\"topic\").count())\n",
    "#transform testing data\n",
    "I_X_valid = count.transform(raw_testing[\"article_words\"])\n",
    "\n",
    "# Considering stop words\n",
    "count2 = CountVectorizer(stop_words='english')\n",
    "sw_bag_of_words = count.fit_transform(increase_training[\"article_words\"])\n",
    "s_X = sw_bag_of_words\n",
    "s_y = increase_training[\"topic\"].apply(hash)\n",
    "# Create number of clusters\n",
    "s_y_clusters = len(increase_training.groupby(\"topic\").count())\n",
    "\n",
    "#transform testing data\n",
    "s_X_valid = count.transform(raw_testing[\"article_words\"])"
   ]
  },
  {
   "cell_type": "code",
   "execution_count": 3,
   "metadata": {},
   "outputs": [],
   "source": [
    "# Using specific model \"method\", return specifc score \"score\" by cross validation\n",
    "\n",
    "def Model_Score(X, y, val_X, val_y, method):\n",
    "   \n",
    "    clf = method\n",
    "    clf.fit(X, y)\n",
    "    y_predicted = clf.predict(val_X)\n",
    "    \n",
    "    accuracy = accuracy_score(val_y, y_predicted)\n",
    "    precision = precision_score(val_y, y_predicted, average = \"macro\")\n",
    "    recall = recall_score(val_y, y_predicted, average = \"macro\")\n",
    "    f1 = f1_score(val_y, y_predicted, average = \"macro\")\n",
    "    \n",
    "    return accuracy, precision, recall, f1"
   ]
  },
  {
   "cell_type": "markdown",
   "metadata": {},
   "source": [
    "**KMeans**"
   ]
  },
  {
   "cell_type": "code",
   "execution_count": 4,
   "metadata": {},
   "outputs": [
    {
     "name": "stderr",
     "output_type": "stream",
     "text": [
      "C:\\Users\\anhvu\\Anaconda3\\lib\\site-packages\\sklearn\\metrics\\classification.py:1135: UndefinedMetricWarning: Precision is ill-defined and being set to 0.0 in labels with no predicted samples.\n",
      "  'precision', 'predicted', average, warn_for)\n",
      "C:\\Users\\anhvu\\Anaconda3\\lib\\site-packages\\sklearn\\metrics\\classification.py:1137: UndefinedMetricWarning: Recall is ill-defined and being set to 0.0 in labels with no true samples.\n",
      "  'recall', 'true', average, warn_for)\n",
      "C:\\Users\\anhvu\\Anaconda3\\lib\\site-packages\\sklearn\\metrics\\classification.py:1135: UndefinedMetricWarning: F-score is ill-defined and being set to 0.0 in labels with no predicted samples.\n",
      "  'precision', 'predicted', average, warn_for)\n",
      "C:\\Users\\anhvu\\Anaconda3\\lib\\site-packages\\sklearn\\metrics\\classification.py:1137: UndefinedMetricWarning: F-score is ill-defined and being set to 0.0 in labels with no true samples.\n",
      "  'recall', 'true', average, warn_for)\n"
     ]
    }
   ],
   "source": [
    "raw_accuracy, raw_precision, raw_recall, raw_f1 = Model_Score(X, y, X_valid, y_valid, KMeans(n_clusters=y_clusters))\n",
    "\n",
    "# reduce irrelevant samples\n",
    "R_accuracy, R_precision, R_recall, R_f1 = Model_Score(R_X, R_y, R_X_valid, y_valid, KMeans(n_clusters=R_y_clusters))\n",
    "\n",
    "# Icreasing the minor classes\n",
    "I_accuracy, I_precision, I_recall, I_f1 = Model_Score(I_X, I_y, I_X_valid, y_valid, KMeans(n_clusters=I_y_clusters))\n",
    "\n",
    "# Try considering stop words\n",
    "s_accuracy, s_precision, s_recall, s_f1 = Model_Score(s_X, s_y, s_X_valid, y_valid, KMeans(n_clusters=s_y_clusters))"
   ]
  },
  {
   "cell_type": "code",
   "execution_count": 5,
   "metadata": {},
   "outputs": [
    {
     "name": "stdout",
     "output_type": "stream",
     "text": [
      "====================================================================================\n",
      "KMeans using raw data:\n",
      "accuracy:  0.0\n",
      "precision: 0.0\n",
      "recall:    0.0\n",
      "f1:        0.0\n",
      "====================================================================================\n",
      "KMeans with irrelevant classes:\n",
      "accuracy:  0.0\n",
      "precision: 0.0\n",
      "recall:    0.0\n",
      "f1:        0.0\n",
      "====================================================================================\n",
      "KMeans with increasing minor classes:\n",
      "accuracy:  0.0\n",
      "precision: 0.0\n",
      "recall:    0.0\n",
      "f1:        0.0\n",
      "====================================================================================\n",
      "KMeans using minorcalsses with stop words:\n",
      "accuracy:  0.0\n",
      "precision: 0.0\n",
      "recall:    0.0\n",
      "f1:        0.0\n"
     ]
    }
   ],
   "source": [
    "print(\"====================================================================================\")\n",
    "\n",
    "print(\"KMeans using raw data:\\naccuracy:  \" + str(raw_accuracy) +\n",
    "     \"\\nprecision: \" + str(raw_precision) + \"\\nrecall:    \" + str(raw_recall) + \"\\nf1:        \" +\n",
    "     str(raw_f1))\n",
    "print(\"====================================================================================\")\n",
    "\n",
    "print(\"KMeans with irrelevant classes:\\naccuracy:  \" + str(R_accuracy) +\n",
    "     \"\\nprecision: \" + str(R_precision) + \"\\nrecall:    \" + str(R_recall) + \"\\nf1:        \" +\n",
    "     str(R_f1))\n",
    "print(\"====================================================================================\")\n",
    "\n",
    "print(\"KMeans with increasing minor classes:\\naccuracy:  \" + str(I_accuracy) +\n",
    "     \"\\nprecision: \" + str(I_precision) + \"\\nrecall:    \" + str(I_recall) + \"\\nf1:        \" +\n",
    "     str(I_f1))\n",
    "print(\"====================================================================================\")\n",
    "\n",
    "print(\"KMeans using minorcalsses with stop words:\\naccuracy:  \" + str(s_accuracy) +\n",
    "     \"\\nprecision: \" + str(s_precision) + \"\\nrecall:    \" + str(s_recall) + \"\\nf1:        \" +\n",
    "     str(s_f1))"
   ]
  },
  {
   "cell_type": "code",
   "execution_count": null,
   "metadata": {},
   "outputs": [],
   "source": []
  }
 ],
 "metadata": {
  "kernelspec": {
   "display_name": "Python 3",
   "language": "python",
   "name": "python3"
  },
  "language_info": {
   "codemirror_mode": {
    "name": "ipython",
    "version": 3
   },
   "file_extension": ".py",
   "mimetype": "text/x-python",
   "name": "python",
   "nbconvert_exporter": "python",
   "pygments_lexer": "ipython3",
   "version": "3.6.5"
  }
 },
 "nbformat": 4,
 "nbformat_minor": 2
}
