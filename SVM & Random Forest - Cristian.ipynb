{
 "cells": [
  {
   "cell_type": "code",
   "execution_count": 1,
   "metadata": {},
   "outputs": [],
   "source": [
    "# Load libraries\n",
    "import numpy as np\n",
    "import pandas as pd\n",
    "from sklearn.naive_bayes import MultinomialNB, BernoulliNB\n",
    "from sklearn.tree import DecisionTreeClassifier\n",
    "from sklearn.ensemble import RandomForestClassifier\n",
    "from sklearn.svm import SVC\n",
    "from sklearn.feature_extraction.text import CountVectorizer, TfidfVectorizer\n",
    "from sklearn.metrics import accuracy_score, precision_score, recall_score, f1_score, classification_report,  roc_auc_score\n",
    "from sklearn.model_selection import KFold, cross_val_score, train_test_split\n",
    "import collections"
   ]
  },
  {
   "cell_type": "code",
   "execution_count": 2,
   "metadata": {},
   "outputs": [],
   "source": [
    "# Import text data\n",
    "raw_training = pd.read_csv(\"training.csv\")\n",
    "raw_testing = pd.read_csv(\"test.csv\")\n",
    "\n",
    "# testing y\n",
    "y_valid = raw_testing[\"topic\"]\n",
    "\n",
    "# Create bag of words\n",
    "count = CountVectorizer()\n",
    "bag_of_words = count.fit_transform(raw_training[\"article_words\"])\n",
    "\n",
    "# Create feature matrix\n",
    "X = bag_of_words\n",
    "\n",
    "# Create bag of words\n",
    "y = raw_training[\"topic\"]\n",
    "\n",
    "#transform testing data\n",
    "X_valid = count.transform(raw_testing[\"article_words\"])\n",
    "\n",
    "#######################Resampling Dataset#######################\n",
    "\n",
    "\n",
    "# Reducing the effect imbalnced by deleting some irrelevant class\n",
    "# \"Irrelevant\" classe has 4734 samples in the training data, try to reduce it into 2000\n",
    "irrelevant = raw_training[raw_training[\"topic\"] == \"IRRELEVANT\"]\n",
    "remove_n = 2734\n",
    "drop_indices = np.random.choice(irrelevant.index, remove_n, replace=False)\n",
    "irrelevant = irrelevant.drop(drop_indices)\n",
    "\n",
    "reduce_training =  pd.concat([raw_training[raw_training[\"topic\"] != \"IRRELEVANT\"], irrelevant],ignore_index=True)\n",
    "reduce_bag_of_words = count.fit_transform(reduce_training[\"article_words\"])\n",
    "R_X = reduce_bag_of_words\n",
    "R_y = reduce_training[\"topic\"]\n",
    "#transform testing data\n",
    "R_X_valid = count.transform(raw_testing[\"article_words\"])\n",
    "\n",
    "# Icreasing the minor classes\n",
    "# Increasing \n",
    "topic_class = raw_training[raw_training[\"topic\"] != \"IRRELEVANT\"]\n",
    "increase_training = pd.concat([topic_class, topic_class, topic_class, raw_training[raw_training[\"topic\"] == \"IRRELEVANT\"]], ignore_index=True)\n",
    "increase_bag_of_words = count.fit_transform(increase_training[\"article_words\"])\n",
    "I_X = increase_bag_of_words\n",
    "I_y = increase_training[\"topic\"]\n",
    "#transform testing data\n",
    "I_X_valid = count.transform(raw_testing[\"article_words\"])\n",
    "\n",
    "# Considering stop words\n",
    "count2 = CountVectorizer(stop_words='english')\n",
    "sw_bag_of_words = count.fit_transform(increase_training[\"article_words\"])\n",
    "s_X = sw_bag_of_words\n",
    "s_y = increase_training[\"topic\"]\n",
    "#transform testing data\n",
    "s_X_valid = count.transform(raw_testing[\"article_words\"])"
   ]
  },
  {
   "cell_type": "code",
   "execution_count": 11,
   "metadata": {},
   "outputs": [],
   "source": [
    "# Using specific model \"method\", return specifc score \"score\" by cross validation\n",
    "\n",
    "def Model_Score(X, y, val_X, val_y, method):\n",
    "   \n",
    "    clf = method\n",
    "    clf.fit(X, y)\n",
    "    y_predicted = clf.predict(val_X)\n",
    "    \n",
    "    accuracy = accuracy_score(val_y, y_predicted)\n",
    "    precision = precision_score(val_y, y_predicted, average = \"macro\")\n",
    "    recall = recall_score(val_y, y_predicted, average = \"macro\")\n",
    "    f1 = f1_score(val_y, y_predicted, average = \"macro\")\n",
    "    \n",
    "    return accuracy, precision, recall, f1\n",
    "\n",
    "\n",
    "def Model_Score_CrossVal (X, y, method, k=5):\n",
    "    \n",
    "    clf = method    \n",
    "    accuracy_scores = cross_val_score(clf, X, y, cv=k, scoring=\"accuracy\")\n",
    "    precision_scores = cross_val_score(clf, X, y, cv=k, scoring=\"precision_macro\")\n",
    "    recall_scores = cross_val_score(clf, X, y, cv=k, scoring=\"recall_macro\")\n",
    "    f1_scores = cross_val_score(clf, X, y, cv=k, scoring=\"f1_macro\")\n",
    "    \n",
    "    return np.mean(accuracy_scores), np.mean(precision_scores), np.mean(recall_scores), np.mean(f1_scores)\n"
   ]
  },
  {
   "cell_type": "markdown",
   "metadata": {},
   "source": [
    "# RandomForestClassifier"
   ]
  },
  {
   "cell_type": "code",
   "execution_count": 13,
   "metadata": {},
   "outputs": [
    {
     "name": "stderr",
     "output_type": "stream",
     "text": [
      "c:\\users\\cristian\\appdata\\local\\programs\\python\\python37\\lib\\site-packages\\sklearn\\model_selection\\_split.py:667: UserWarning: The least populated class in y has only 2 members, which is less than n_splits=5.\n",
      "  % (min_groups, self.n_splits)), UserWarning)\n",
      "c:\\users\\cristian\\appdata\\local\\programs\\python\\python37\\lib\\site-packages\\sklearn\\model_selection\\_split.py:667: UserWarning: The least populated class in y has only 2 members, which is less than n_splits=5.\n",
      "  % (min_groups, self.n_splits)), UserWarning)\n",
      "c:\\users\\cristian\\appdata\\local\\programs\\python\\python37\\lib\\site-packages\\sklearn\\metrics\\_classification.py:1272: UndefinedMetricWarning: Precision is ill-defined and being set to 0.0 in labels with no predicted samples. Use `zero_division` parameter to control this behavior.\n",
      "  _warn_prf(average, modifier, msg_start, len(result))\n",
      "c:\\users\\cristian\\appdata\\local\\programs\\python\\python37\\lib\\site-packages\\sklearn\\metrics\\_classification.py:1272: UndefinedMetricWarning: Precision is ill-defined and being set to 0.0 in labels with no predicted samples. Use `zero_division` parameter to control this behavior.\n",
      "  _warn_prf(average, modifier, msg_start, len(result))\n",
      "c:\\users\\cristian\\appdata\\local\\programs\\python\\python37\\lib\\site-packages\\sklearn\\metrics\\_classification.py:1272: UndefinedMetricWarning: Precision is ill-defined and being set to 0.0 in labels with no predicted samples. Use `zero_division` parameter to control this behavior.\n",
      "  _warn_prf(average, modifier, msg_start, len(result))\n",
      "c:\\users\\cristian\\appdata\\local\\programs\\python\\python37\\lib\\site-packages\\sklearn\\metrics\\_classification.py:1272: UndefinedMetricWarning: Precision is ill-defined and being set to 0.0 in labels with no predicted samples. Use `zero_division` parameter to control this behavior.\n",
      "  _warn_prf(average, modifier, msg_start, len(result))\n",
      "c:\\users\\cristian\\appdata\\local\\programs\\python\\python37\\lib\\site-packages\\sklearn\\metrics\\_classification.py:1272: UndefinedMetricWarning: Precision is ill-defined and being set to 0.0 in labels with no predicted samples. Use `zero_division` parameter to control this behavior.\n",
      "  _warn_prf(average, modifier, msg_start, len(result))\n",
      "c:\\users\\cristian\\appdata\\local\\programs\\python\\python37\\lib\\site-packages\\sklearn\\model_selection\\_split.py:667: UserWarning: The least populated class in y has only 2 members, which is less than n_splits=5.\n",
      "  % (min_groups, self.n_splits)), UserWarning)\n",
      "c:\\users\\cristian\\appdata\\local\\programs\\python\\python37\\lib\\site-packages\\sklearn\\model_selection\\_split.py:667: UserWarning: The least populated class in y has only 2 members, which is less than n_splits=5.\n",
      "  % (min_groups, self.n_splits)), UserWarning)\n"
     ]
    }
   ],
   "source": [
    "raw_accuracy, raw_precision, raw_recall, raw_f1 = Model_Score(X, y, X_valid, y_valid, RandomForestClassifier())\n",
    "\n",
    "# reduce irrelevant samples\n",
    "R_accuracy, R_precision, R_recall, R_f1 = Model_Score(R_X, R_y, R_X_valid, y_valid, RandomForestClassifier())\n",
    "\n",
    "# Icreasing the minor classes\n",
    "I_accuracy, I_precision, I_recall, I_f1 = Model_Score(I_X, I_y, I_X_valid, y_valid, RandomForestClassifier())\n",
    "\n",
    "# Try considering stop words\n",
    "s_accuracy, s_precision, s_recall, s_f1 = Model_Score(s_X, s_y, s_X_valid, y_valid, RandomForestClassifier())"
   ]
  },
  {
   "cell_type": "code",
   "execution_count": 5,
   "metadata": {},
   "outputs": [
    {
     "name": "stdout",
     "output_type": "stream",
     "text": [
      "====================================================================================\n",
      "Random Forest using raw data:\n",
      "accuracy:  0.734\n",
      "precision: 0.4380108551371127\n",
      "recall:    0.29694006413113966\n",
      "f1:        0.31540531381487563\n",
      "====================================================================================\n",
      "Random Forest with irrelevant classes:\n",
      "accuracy:  0.736\n",
      "precision: 0.46783336053721025\n",
      "recall:    0.3324870209881652\n",
      "f1:        0.34674822266120514\n",
      "====================================================================================\n",
      "Random Forest with increasing minor classes:\n",
      "accuracy:  0.738\n",
      "precision: 0.521300318244291\n",
      "recall:    0.33288786918649615\n",
      "f1:        0.3648081584880412\n",
      "====================================================================================\n",
      "Random Forest using minorcalsses with stop words:\n",
      "accuracy:  0.732\n",
      "precision: 0.5624636253498108\n",
      "recall:    0.3249902843152271\n",
      "f1:        0.3559428538323226\n"
     ]
    }
   ],
   "source": [
    "print(\"====================================================================================\")\n",
    "\n",
    "print(\"Random Forest using raw data:\\naccuracy:  \" + str(raw_accuracy) +\n",
    "     \"\\nprecision: \" + str(raw_precision) + \"\\nrecall:    \" + str(raw_recall) + \"\\nf1:        \" +\n",
    "     str(raw_f1))\n",
    "print(\"====================================================================================\")\n",
    "\n",
    "print(\"Random Forest with irrelevant classes:\\naccuracy:  \" + str(R_accuracy) +\n",
    "     \"\\nprecision: \" + str(R_precision) + \"\\nrecall:    \" + str(R_recall) + \"\\nf1:        \" +\n",
    "     str(R_f1))\n",
    "print(\"====================================================================================\")\n",
    "\n",
    "print(\"Random Forest with increasing minor classes:\\naccuracy:  \" + str(I_accuracy) +\n",
    "     \"\\nprecision: \" + str(I_precision) + \"\\nrecall:    \" + str(I_recall) + \"\\nf1:        \" +\n",
    "     str(I_f1))\n",
    "print(\"====================================================================================\")\n",
    "\n",
    "print(\"Random Forest using minorcalsses with stop words:\\naccuracy:  \" + str(s_accuracy) +\n",
    "     \"\\nprecision: \" + str(s_precision) + \"\\nrecall:    \" + str(s_recall) + \"\\nf1:        \" +\n",
    "     str(s_f1))"
   ]
  },
  {
   "cell_type": "markdown",
   "metadata": {},
   "source": [
    "# SVC (Support Vector Classifier)"
   ]
  },
  {
   "cell_type": "code",
   "execution_count": 6,
   "metadata": {},
   "outputs": [
    {
     "name": "stderr",
     "output_type": "stream",
     "text": [
      "c:\\users\\cristian\\appdata\\local\\programs\\python\\python37\\lib\\site-packages\\sklearn\\metrics\\_classification.py:1272: UndefinedMetricWarning: Precision is ill-defined and being set to 0.0 in labels with no predicted samples. Use `zero_division` parameter to control this behavior.\n",
      "  _warn_prf(average, modifier, msg_start, len(result))\n",
      "c:\\users\\cristian\\appdata\\local\\programs\\python\\python37\\lib\\site-packages\\sklearn\\metrics\\_classification.py:1272: UndefinedMetricWarning: Precision is ill-defined and being set to 0.0 in labels with no predicted samples. Use `zero_division` parameter to control this behavior.\n",
      "  _warn_prf(average, modifier, msg_start, len(result))\n"
     ]
    }
   ],
   "source": [
    "raw_accuracy, raw_precision, raw_recall, raw_f1 = Model_Score(X, y, X_valid, y_valid, SVC())\n",
    "\n",
    "# reduce irrelevant samples\n",
    "R_accuracy, R_precision, R_recall, R_f1 = Model_Score(R_X, R_y, R_X_valid, y_valid, SVC())\n",
    "\n",
    "# Icreasing the minor classes\n",
    "I_accuracy, I_precision, I_recall, I_f1 = Model_Score(I_X, I_y, I_X_valid, y_valid, SVC())\n",
    "\n",
    "# Try considering stop words\n",
    "s_accuracy, s_precision, s_recall, s_f1 = Model_Score(s_X, s_y, s_X_valid, y_valid, SVC())"
   ]
  },
  {
   "cell_type": "code",
   "execution_count": 7,
   "metadata": {},
   "outputs": [
    {
     "name": "stdout",
     "output_type": "stream",
     "text": [
      "====================================================================================\n",
      "SVM using raw data:\n",
      "accuracy:  0.746\n",
      "precision: 0.47611676793583707\n",
      "recall:    0.34186073270741457\n",
      "f1:        0.3722400682974134\n",
      "====================================================================================\n",
      "SVM with irrelevant classes:\n",
      "accuracy:  0.752\n",
      "precision: 0.6249228615598829\n",
      "recall:    0.4538823685848858\n",
      "f1:        0.47790355264000256\n",
      "====================================================================================\n",
      "SVM with increasing minor classes:\n",
      "accuracy:  0.762\n",
      "precision: 0.6238407684248873\n",
      "recall:    0.5092912712763972\n",
      "f1:        0.5398158154713258\n",
      "====================================================================================\n",
      "SVM using minorcalsses with stop words:\n",
      "accuracy:  0.762\n",
      "precision: 0.6238407684248873\n",
      "recall:    0.5092912712763972\n",
      "f1:        0.5398158154713258\n"
     ]
    }
   ],
   "source": [
    "print(\"====================================================================================\")\n",
    "\n",
    "print(\"SVM using raw data:\\naccuracy:  \" + str(raw_accuracy) +\n",
    "     \"\\nprecision: \" + str(raw_precision) + \"\\nrecall:    \" + str(raw_recall) + \"\\nf1:        \" +\n",
    "     str(raw_f1))\n",
    "print(\"====================================================================================\")\n",
    "\n",
    "print(\"SVM with irrelevant classes:\\naccuracy:  \" + str(R_accuracy) +\n",
    "     \"\\nprecision: \" + str(R_precision) + \"\\nrecall:    \" + str(R_recall) + \"\\nf1:        \" +\n",
    "     str(R_f1))\n",
    "print(\"====================================================================================\")\n",
    "\n",
    "print(\"SVM with increasing minor classes:\\naccuracy:  \" + str(I_accuracy) +\n",
    "     \"\\nprecision: \" + str(I_precision) + \"\\nrecall:    \" + str(I_recall) + \"\\nf1:        \" +\n",
    "     str(I_f1))\n",
    "print(\"====================================================================================\")\n",
    "\n",
    "print(\"SVM using minorcalsses with stop words:\\naccuracy:  \" + str(s_accuracy) +\n",
    "     \"\\nprecision: \" + str(s_precision) + \"\\nrecall:    \" + str(s_recall) + \"\\nf1:        \" +\n",
    "     str(s_f1))"
   ]
  }
 ],
 "metadata": {
  "kernelspec": {
   "display_name": "Python 3",
   "language": "python",
   "name": "python3"
  },
  "language_info": {
   "codemirror_mode": {
    "name": "ipython",
    "version": 3
   },
   "file_extension": ".py",
   "mimetype": "text/x-python",
   "name": "python",
   "nbconvert_exporter": "python",
   "pygments_lexer": "ipython3",
   "version": "3.7.0"
  }
 },
 "nbformat": 4,
 "nbformat_minor": 4
}
