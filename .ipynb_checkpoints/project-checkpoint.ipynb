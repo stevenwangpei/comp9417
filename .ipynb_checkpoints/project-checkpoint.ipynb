{
 "cells": [
  {
   "cell_type": "code",
   "execution_count": 2,
   "metadata": {},
   "outputs": [
    {
     "name": "stdout",
     "output_type": "stream",
     "text": [
      "<class 'pandas.core.frame.DataFrame'>\n",
      "RangeIndex: 500 entries, 0 to 499\n",
      "Data columns (total 3 columns):\n",
      "article_number    500 non-null int64\n",
      "article_words     500 non-null object\n",
      "topic             500 non-null object\n",
      "dtypes: int64(1), object(2)\n",
      "memory usage: 11.8+ KB\n"
     ]
    }
   ],
   "source": [
    "import numpy as np\n",
    "import pandas as pd\n",
    "from sklearn import preprocessing\n",
    "\n",
    "df = pd.read_csv('training.csv') # use test which is smaller for development\n",
    "df.info()"
   ]
  },
  {
   "cell_type": "code",
   "execution_count": 3,
   "metadata": {
    "scrolled": true
   },
   "outputs": [
    {
     "data": {
      "text/html": [
       "<div>\n",
       "<style scoped>\n",
       "    .dataframe tbody tr th:only-of-type {\n",
       "        vertical-align: middle;\n",
       "    }\n",
       "\n",
       "    .dataframe tbody tr th {\n",
       "        vertical-align: top;\n",
       "    }\n",
       "\n",
       "    .dataframe thead th {\n",
       "        text-align: right;\n",
       "    }\n",
       "</style>\n",
       "<table border=\"1\" class=\"dataframe\">\n",
       "  <thead>\n",
       "    <tr style=\"text-align: right;\">\n",
       "      <th></th>\n",
       "      <th>article_number</th>\n",
       "      <th>article_words</th>\n",
       "      <th>topic</th>\n",
       "    </tr>\n",
       "  </thead>\n",
       "  <tbody>\n",
       "    <tr>\n",
       "      <td>0</td>\n",
       "      <td>9501</td>\n",
       "      <td>world,complet,pharmaceut,tianjin,tianjin,chin,...</td>\n",
       "      <td>IRRELEVANT</td>\n",
       "    </tr>\n",
       "    <tr>\n",
       "      <td>1</td>\n",
       "      <td>9502</td>\n",
       "      <td>copy,sunday,weekend,ec,friday,eu,includ,limit,...</td>\n",
       "      <td>IRRELEVANT</td>\n",
       "    </tr>\n",
       "    <tr>\n",
       "      <td>2</td>\n",
       "      <td>9503</td>\n",
       "      <td>heavy,heavy,gabriel,morn,morn,equit,cent,cent,...</td>\n",
       "      <td>FOREX MARKETS</td>\n",
       "    </tr>\n",
       "    <tr>\n",
       "      <td>3</td>\n",
       "      <td>9504</td>\n",
       "      <td>research,jess,hit,anticip,comput,comput,comput...</td>\n",
       "      <td>IRRELEVANT</td>\n",
       "    </tr>\n",
       "    <tr>\n",
       "      <td>4</td>\n",
       "      <td>9505</td>\n",
       "      <td>provid,provid,luxembourg,court,court,case,opin...</td>\n",
       "      <td>IRRELEVANT</td>\n",
       "    </tr>\n",
       "  </tbody>\n",
       "</table>\n",
       "</div>"
      ],
      "text/plain": [
       "   article_number                                      article_words  \\\n",
       "0            9501  world,complet,pharmaceut,tianjin,tianjin,chin,...   \n",
       "1            9502  copy,sunday,weekend,ec,friday,eu,includ,limit,...   \n",
       "2            9503  heavy,heavy,gabriel,morn,morn,equit,cent,cent,...   \n",
       "3            9504  research,jess,hit,anticip,comput,comput,comput...   \n",
       "4            9505  provid,provid,luxembourg,court,court,case,opin...   \n",
       "\n",
       "           topic  \n",
       "0     IRRELEVANT  \n",
       "1     IRRELEVANT  \n",
       "2  FOREX MARKETS  \n",
       "3     IRRELEVANT  \n",
       "4     IRRELEVANT  "
      ]
     },
     "execution_count": 3,
     "metadata": {},
     "output_type": "execute_result"
    }
   ],
   "source": [
    "df.head()"
   ]
  },
  {
   "cell_type": "code",
   "execution_count": 4,
   "metadata": {},
   "outputs": [],
   "source": [
    "input_cols = ['article_words']\n",
    "out_cols = ['topic']\n",
    "X = df[input_cols]\n",
    "y = df[out_cols]"
   ]
  },
  {
   "cell_type": "code",
   "execution_count": 5,
   "metadata": {},
   "outputs": [
    {
     "name": "stdout",
     "output_type": "stream",
     "text": [
      "8112\n",
      "1112\n",
      "[['hoechst', 'pigment', 'chin', 'invest', 'ventur'], ['reut', 'event', 'august', 'schedul', 'diary'], ['market', 'thai', 'bank', 'peso', 'philippin'], ['comput', 'microsoft', 'network', 'easy', 'industr'], ['servic', 'stat', 'market', 'commit', 'invest'], ['baht', 'rate', 'float', 'exchang', 'fix'], ['airlin', 'flight', 'air', 'stat', 'novemb'], ['open', 'round', 'hole', 'wood', 'clark'], ['money', 'decemb', 'broad', 'jan', 'chang'], ['stock', 'blu', 'chip', 'foreign', 'broker'], ['shar', 'buy', 'high', 'kagaku', 'riso'], ['telstr', 'sale', 'govern', 'harradin', 'concern'], ['braun', 'lewi', 'point', 'finish', 'world'], ['real', 'compostel', 'barcelon', 'held', 'draw'], ['pct', 'uk', 'dec', 'fri', 'mon'], ['pct', 'bill', 'matur', 'day', 'rate'], ['chairm', 'compan', 'add', 'board', 'execut'], ['list', 'ruokatal', 'shar', 'brok', 'hk'], ['ton', 'wheat', 'million', 'year', 'grain'], ['casablanc', 'widad', 'raja', 'divid', 'socc'], ['strong', 'profit', 'sulz', 'swiss', 'net'], ['point', 'institut', 'ringgit', 'deal', 'trad'], ['unemploy', 'jan', 'belgian', 'regist', 'minist'], ['million', 'prft', 'forecast', 'construc', 'year'], ['bank', 'bid', 'rate', 'oct', 'contribut'], ['awdry', 'engin', 'thom', 'child', 'christoph'], ['quart', 'million', 'lehm', 'fourth', 'busi'], ['bond', 'zloty', 'trad', 'year', 'matur'], ['roubl', 'dollar', 'bank', 'rate', 'friday'], ['peso', 'dollar', 'trad', 'mexic', 'weak'], ['won', 'bank', 'dollar', 'cent', 'korea'], ['bank', 'end', 'shar', 'fts', 'deal'], ['campaign', 'elect', 'bill', 'period', 'day'], ['forint', 'million', 'total', 'pct', 'aver'], ['mich', 'moody', 'baa', 'detroit', 'rate'], ['inn', 'england', 'lead', 'tea', 'cricket'], ['million', 'pct', 'bln', 'dec', 'growth'], ['lufthans', 'week', 'ahlberg', 'carg', 'stockholm'], ['zealand', 'rate', 'percent', 'interest', 'dollar'], ['patriot', 'americ', 'march', 'merg', 'date'], ['roethlisberg', 'match', 'fifa', 'swiss', 'world'], ['euro', 'hope', 'rate', 'franc', 'arthui'], ['dividend', 'march', 'group', 'quart', 'amount'], ['research', 'rate', 'steel', 'nikk', 'toky'], ['investig', 'offic', 'immigr', 'kong', 'hong'], ['mine', 'fire', 'minist', 'siber', 'coal'], ['deal', 'market', 'percent', 'bond', 'week'], ['peso', 'trad', 'clos', 'week', 'mexic'], ['lpg', 'cong', 'elf', 'nkoss', 'percent'], ['cad', 'yr', 'canad', 'wi', 'mth'], ['ringgit', 'dollar', 'deal', 'bank', 'heavy'], ['wheat', 'trad', 'bushel', 'deliv', 'cbot'], ['pct', 'yield', 'week', 'bln', 'bid'], ['week', 'market', 'invest', 'rate', 'emerg'], ['rate', 'rupee', 'pct', 'market', 'kerb'], ['aetn', 'year', 'sebastianel', 'presid', 'salar'], ['group', 'stak', 'held', 'file', 'shar'], ['million', 'yen', 'group', 'intern', 'prft'], ['nato', 'weapon', 'threat', 'whit', 'dudakov'], ['deal', 'rate', 'surplus', 'fund', 'open'], ['yen', 'market', 'stock', 'gold', 'trad'], ['ag', 'eqo', 'includ', 'bours', 'vien'], ['hk', 'hysan', 'low', 'profit', 'billion'], ['italy', 'debt', 'emu', 'currenc', 'union'], ['dollar', 'rupee', 'deal', 'level', 'open'], ['flour', 'deal', 'suppl', 'stead', 'mill'], ['foreign', 'debt', 'institut', 'financ', 'term'], ['milan', 'minut', 'sacch', 'win', 'season'], ['tafi', 'world', 'cup', 'round', 'sunday'], ['baht', 'bank', 'deal', 'late', 'dollar'], ['treasur', 'balanc', 'issu', 'million', 'fed'], ['mark', 'franc', 'emu', 'market', 'french'], ['nime', 'cup', 'olymp', 'budap', 'european'], ['beat', 'draw', 'point', 'titl', 'arsen'], ['blak', 'kangaroo', 'mother', 'edie', 'baby'], ['summit', 'nato', 'stat', 'secur', 'european'], ['eu', 'minist', 'erm', 'lira', 'markk'], ['koram', 'produc', 'activ', 'swiss', 'pacif'], ['taleb', 'acf', 'intern', 'women', 'islam'], ['south', 'korea', 'iran', 'quart', 'beat'], ['enviroserv', 'suic', 'firm', 'interim', 'heus'], ['trial', 'graf', 'tax', 'father', 'million'], ['forint', 'million', 'total', 'pct', 'aver'], ['point', 'mark', 'dollar', 'market', 'high'], ['pric', 'millfeed', 'carolin', 'deal', 'stead'], ['bank', 'india', 'call', 'corpor', 'contribut'], ['bank', 'excess', 'settl', 'canad', 'balanc'], ['fix', 'dollar', 'cnb', 'crown', 'mark'], ['market', 'econom', 'anal', 'data', 'expect'], ['mitsubish', 'engin', 'volut', 'gdi', 'percent'], ['stock', 'rice', 'cbot', 'arkans', 'grain'], ['sainsbur', 'brit', 'group', 'retail', 'rate'], ['kans', 'deal', 'wheat', 'oklahom', 'basi'], ['percent', 'unchang', 'month', 'day', 'trad'], ['riversid', 'rate', 'moody', 'a3', 'sale'], ['spin', 'sri', 'lank', 'world', 'play'], ['mexic', 'boliv', 'minut', 'play', 'goal'], ['canad', 'debentur', 'issu', 'sery', 'bell'], ['market', 'germ', 'percent', 'point', 'dax'], ['bank', 'cent', 'rate', 'contribut', 'term'], ['shar', 'invest', 'soot', 'issu', 'turism'], ['bill', 'billion', 'april', 'week', 'matur'], ['rule', 'bellsouth', 'challeng', 'court', 'phon'], ['tomb', 'pharaoh', 'egypt', 'antiqu', 'met'], ['miguel', 'san', 'coca', 'cola', 'bottl'], ['percent', 'rand', 'rate', 'year', 'billion'], ['war', 'radar', 'design', 'ship', 'contract'], ['indy', 'west', 'clos', 'test', 'india'], ['percent', 'hospit', 'florid', 'patient', 'revenu'], ['beat', 'ten', 'intern', 'spain', 'result'], ['bank', 'year', 'anal', 'rise', 'expect'], ['congress', 'year', 'hous', 'total', 'cia'], ['cent', 'end', 'weak', 'contract', 'sell'], ['exercis', 'styl', 'index', 'european', 'americ'], ['yen', 'group', 'eps', 'march', 'corp'], ['train', 'women', 'men', 'milit', 'army'], ['clon', 'research', 'human', 'bill', 'villalobo'], ['day', 'canad', 'rate', 'pape', 'money'], ['plan', 'econom', 'reform', 'retir', 'yemen'], ['borg', 'play', 'game', 'ten', 'win'], ['alzheim', 'diseas', 'goedert', 'tangl', 'fila'], ['barrel', 'stock', 'million', 'tdb', 'singapor'], ['nomur', 'dkb', 'bank', 'secur', 'minist'], ['net', 'shar', 'loss', 'operat', 'sale'], ['clos', 'dollar', 'trad', 'shar', 'percent'], ['market', 'glob', 'euro', 'transpar', 'issu'], ['bank', 'percent', 'dollar', 'cent', 'board'], ['flight', 'day', 'strik', 'air', 'cut'], ['percent', 'fotolab', 'sale', 'acquir', 'photofin'], ['divid', 'socc', 'stockport', 'stand', 'chesterfield'], ['total', 'march', 'silf', 'cbot', 'custom'], ['rubin', 'strong', 'dollar', 'econom', 'growth'], ['sale', 'govern', 'shar', 'india', 'percent'], ['rate', 'refer', 'leu', 'dollar', 'bnr'], ['wto', 'trad', 'invest', 'issu', 'develop'], ['million', 'profit', 'month', 'stg', 'decemb'], ['stat', 'develop', 'corpor', 'bond', 'secur'], ['revers', 'argentin', 'billion', 'set', 'repo'], ['loss', 'markk', 'april', 'polar', 'fim'], ['quot', 'cotton', 'special', 'pric', 'high'], ['bank', 'rate', 'bid', 'contribut', 'spot'], ['yen', 'forecast', 'year', 'parent', 'sake'], ['ton', 'colomb', 'auction', 'rub', 'off'], ['knight', 'zoll', 'medic', 'cfo', 'william'], ['banan', 'polic', 'dube', 'investig', 'presid'], ['cpi', 'reich', 'medicar', 'adjust', 'inflat'], ['muss', 'europ', 'monet', 'imf', 'econom'], ['ukrain', 'germ', 'kief', 'kohl', 'european'], ['percent', 'million', 'market', 'clos', 'stock'], ['forint', 'dollar', 'bank', 'percent', 'hung'], ['ipe', 'fuel', 'jet', 'prem', 'trad'], ['shar', 'trent', 'severn', 'million', 'govern'], ['race', 'prix', 'helissio', 'win', 'arc'], ['symbol', 'stock', 'corp', 'chang', 'commun'], ['kroon', 'million', 'clos', 'deal', 'market'], ['croat', 'group', 'game', 'point', 'spain'], ['world', 'cup', 'qualif', 'mexic', 'cost'], ['deal', 'potash', 'pcs', 'kali', 'compan'], ['brok', 'futur', 'late', 'market', 'currenc'], ['mine', 'afric', 'south', 'memb', 'motlats'], ['patient', 'dmp', 'study', 'merck', 'hiv'], ['divid', 'socc', 'athinaiko', 'ioniko', 'paniliako'], ['netherland', 'san', 'marin', 'socc', 'world'], ['sulz', 'divid', 'ruet', 'hold', 'new'], ['crown', 'bank', 'czech', 'rate', 'vit'], ['shar', 'billiton', 'option', 'million', 'johannesburg'], ['system', 'drill', 'timb', 'atrix', 'wern'], ['kong', 'hong', 'fund', 'land', 'dollar'], ['trad', 'long', 'end', 'rumor', 'bund'], ['base', 'clos', 'doubleday', 'senat', 'vote'], ['peso', 'dollar', 'day', 'million', 'bank'], ['rate', 'foreign', 'raasuk', 'eston', 'bank'], ['niger', 'cmag', 'commonwealth', 'group', 'meet'], ['unaudit', 'loss', 'end', 'shar', 'net'], ['greec', 'deficit', 'million', 'bank', 'show'], ['israel', 'reserv', 'bank', 'jan', 'billion'], ['low', 'week', 'term', 'end', 'yen'], ['dollar', 'rate', 'gold', 'franc', 'london'], ['franc', 'telecom', 'lamassor', 'french', 'minist'], ['bank', 'rich', 'econom', 'swiss', 'snb'], ['pct', 'mar', 'usa', 'uk', 'thu'], ['fix', 'dollar', 'cnb', 'crown', 'mark'], ['rate', 'day', 'million', 'percent', 'peso'], ['shar', 'trad', 'schill', 'point', 'percent'], ['nikkei', 'point', 'yen', 'percent', 'market'], ['unit', 'profit', 'plantat', 'net', 'year'], ['typhoon', 'guam', 'mph', 'expect', 'storm'], ['malbak', 'unbundl', 'kohl', 'group', 'hold'], ['liby', 'market', 'tend', 'postpon', 'buy'], ['yen', 'million', 'group', 'sanritsu', 'eps'], ['stg', 'million', 'money', 'market', 'provid'], ['norway', 'dec', 'oil', 'foreign', 'exclud'], ['mark', 'waigel', 'weak', 'dollar', 'maastricht'], ['scor', 'count', 'day', 'champ', 'cricket'], ['love', 'golf', 'vict', 'play', 'pga'], ['mark', 'market', 'pfennig', 'dax', 'point'], ['minist', 'liquid', 'bozhkov', 'loss', 'industr'], ['protest', 'afric', 'mugab', 'veter', 'govern'], ['pape', 'valmet', 'machin', 'ord', 'south'], ['intermed', 'million', 'year', 'call', 'pay'], ['candid', 'ioc', 'game', 'city', 'decid'], ['clos', 'rupee', 'cover', 'bank', 'dollar'], ['child', 'barney', 'smok', 'act', 'film'], ['dollar', 'mark', 'high', 'trad', 'yen'], ['unit', 'pow', 'mw', 'outag', 'wednesday'], ['defend', 'thomson', 'aerospatial', 'commit', 'csf'], ['stg', 'bill', 'band', 'forecast', 'billion'], ['rate', 'rupee', 'market', 'kerb', 'pct'], ['resign', 'japan', 'bank', 'scand', 'dkb'], ['bank', 'japan', 'market', 'shar', 'stock'], ['mark', 'germ', 'trad', 'percent', 'report'], ['stock', 'complet', 'lexington', 'shar', 'friday'], ['plan', 'crash', 'nige', 'peopl', 'board'], ['rebel', 'fujimor', 'govern', 'host', 'releas'], ['trad', 'buchar', 'stock', 'session', 'bours'], ['fund', 'tax', 'index', 'exempt', 'municip'], ['cocoa', 'trad', 'stg', 'july', 'futur'], ['peso', 'bank', 'cent', 'dollar', 'million'], ['week', 'cattl', 'ago', 'feedlot', 'pric'], ['treasur', 'announc', 'time', 'bill', 'gmt'], ['eurofight', 'budget', 'waigel', 'german', 'minist'], ['weather', 'satel', 'forecast', 'launch', 'storm'], ['rate', 'deal', 'guild', 'trad', 'payment'], ['elect', 'party', 'polit', 'royal', 'king'], ['moscow', 'roubl', 'aug', 'dollar', 'fix'], ['london', 'apr', 'metal', 'jan', 'turnov'], ['fts', 'market', 'shar', 'move', 'today'], ['steel', 'industr', 'graham', 'pric', 'year'], ['rupiah', 'deal', 'bank', 'elect', 'campaign'], ['move', 'sakai', 'raid', 'osak', 'offic'], ['offic', 'landmin', 'ban', 'process', 'clinton'], ['purchas', 'tescorp', 'sis', 'tv', 'joint'], ['real', 'dollar', 'deal', 'outflow', 'reai'], ['japan', 'rate', 'group', 'busi', 'yen'], ['allerg', 'european', 'report', 'wilm', 'problem'], ['shaamit', 'win', 'de', 'retir', 'derby'], ['bill', 'coupon', 'bond', 'iii', 'total'], ['brug', 'half', 'cup', 'minut', 'buchar'], ['disarma', 'faction', 'liber', 'fight', 'afric'], ['real', 'dollar', 'market', 'trad', 'percent'], ['taiw', 'chin', 'provinc', 'beij', 'independ'], ['radisy', 'sonitech', 'intern', 'million', 'acquir'], ['dollar', 'percent', 'rate', 'high', 'swiss'], ['week', 'april', 'data', 'stock', 'provid'], ['rupee', 'pric', 'quint', 'metal', 'cop'], ['dkb', 'bank', 'japan', 'prem', 'fund'], ['provid', 'compan', 'lend', 'profit', 'mar'], ['mark', 'yen', 'dollar', 'deal', 'sale'], ['claim', 'week', 'august', 'payrol', 'market'], ['year', 'ton', 'million', 'import', 'harvest'], ['britain', 'econom', 'emu', 'percent', 'rate'], ['inc', 'int', 'club', 'liverpool', 'season'], ['stabl', 'pric', 'czech', 'import', 'tosovsk'], ['stand', 'wednesday', 'liverpool', 'everton', 'leagu'], ['bill', 'trad', 'rate', 'percent', 'canad'], ['shell', 'dutch', 'sale', 'magazin', 'custom'], ['austral', 'wood', 'open', 'ticket', 'time'], ['jone', 'clinton', 'arkans', 'confer', 'court'], ['iraq', 'oil', 'kuwait', 'claim', 'fire'], ['play', 'beck', 'serv', 'world', 'krajicek'], ['day', 'percent', 'eas', 'bill', 'yield'], ['toyot', 'plant', 'domest', 'output', 'resum'], ['buducnost', 'mladost', 'ofk', 'stand', 'divid'], ['right', 'human', 'burm', 'amnest', 'year'], ['bank', 'deal', 'trad', 'rtg', 'money'], ['bank', 'billion', 'rupiah', 'indones', 'cent'], ['oil', 'ton', 'million', 'gas', 'uzbekist'], ['tudjm', 'croat', 'pow', 'rule', 'lead'], ['day', 'peso', 'rate', 'week', 'million'], ['szumsk', 'law', 'martial', 'gener', 'commun'], ['confid', 'approv', 'plan', 'remain', 'ba'], ['dollar', 'peso', 'trad', 'day', 'mexic'], ['nato', 'russia', 'enlarg', 'offic', 'reject'], ['jord', 'game', 'malon', 'time', 'pip'], ['fond', 'envi', 'c4', 'avi', 'pe220'], ['peso', 'trad', 'rate', 'mexic', 'stabl'], ['stat', 'ecuador', 'burn', 'constitut', 'unit'], ['nikk', 'yen', 'euroy', 'march', 'argentin'], ['won', 'limit', 'debt', 'trad', 'clos'], ['trad', 'oil', 'friday', 'june', 'swap'], ['leas', 'dell', 'solut', 'compan', 'expect'], ['russia', 'canad', 'finland', 'unit', 'stat'], ['najibullah', 'kabul', 'govern', 'man', 'afghanist'], ['poll', 'pibor', 'option', 'elect', 'social'], ['million', 'quart', 'hugoton', 'earn', 'shar'], ['peso', 'clos', 'contract', 'dollar', 'mexic'], ['hit', 'run', 'game', 'lead', 'pitch'], ['oil', 'gas', 'brent', 'ipe', 'cent'], ['rushdie', 'capit', 'cultur', 'award', 'priz'], ['cop', 'hamanak', 'trad', 'sumitom', 'world'], ['sri', 'lank', 'test', 'st', 'june'], ['rate', 'polish', 'agent', 'market', 'cent'], ['approv', 'commit', 'council', 'secur', 'chairm'], ['canad', 'petr', 'rate', 'cbr', 'larg'], ['budget', 'eu', 'european', 'countr', 'brown'], ['sale', 'janu', 'year', 'japan', 'vehicl'], ['minist', 'seat', 'social', 'win', 'party'], ['fix', 'crown', 'percent', 'dollar', 'calcul'], ['elect', 'cambod', 'ranariddh', 'khm', 'polit'], ['boruss', 'st', 'munich', 'play', 'friday'], ['mcnult', 'pric', 'win', 'clos', 'year'], ['sourc', 'eu', 'decid', 'european', 'kesk'], ['swiss', 'fund', 'bank', 'world', 'bloch'], ['diagnost', 'stock', 'lab', 'relat', 'cent'], ['poll', 'result', 'bundesbank', 'rate', 'frankfurt'], ['ecuador', 'offic', 'convertibl', 'econom', 'argentin'], ['brook', 'californ', 'settl', 'stat', 'compan'], ['mln', 'mo', 'ont', 'man', 'provinc'], ['helissio', 'win', 'de', 'repeat', 'cup'], ['malar', 'year', 'afric', 'case', 'sharp'], ['rally', 'race', 'norweg', 'accid', 'hit'], ['sieb', 'perform', 'stock', 'profit', 'percent'], ['time', 'set', 'play', 'round', 'chang'], ['domin', 'sa', 'pow', 'stak', 'capit'], ['minist', 'gujr', 'foreign', 'prim', 'govern'], ['week', 'bond', 'trad', 'yr', 'mar'], ['court', 'open', 'champ', 'show', 'club'], ['udin', 'fiorentin', 'robert', 'marc', 'vicenz'], ['agricultur', 'espy', 'farm', 'indict', 'illeg'], ['bank', 'percent', 'billion', 'markk', 'finland'], ['fiorentin', 'robert', 'marc', 'divid', 'scor'], ['bank', 'rate', 'keny', 'deal', 'market'], ['dollar', 'deal', 'singapor', 'market', 'iraq'], ['rand', 'billion', 'money', 'market', 'short'], ['contract', 'yen', 'spot', 'end', 'august'], ['crown', 'swed', 'market', 'yield', 'mark'], ['pow', 'station', 'stat', 'financ', 'americ'], ['cent', 'argentin', 'bank', 'air', 'bueno'], ['year', 'percent', 'bond', 'austral', 'contract'], ['breck', 'music', 'play', 'philadelph', 'sound'], ['union', 'job', 'polic', 'european', 'belg'], ['st', 'champ', 'race', 'william', 'grand'], ['farm', 'pig', 'provinc', 'assoc', 'outbreak'], ['spons', 'rsc', 'deal', 'compan', 'art'], ['trad', 'day', 'bank', 'friday', 'cent'], ['india', 'azharuddin', 'sri', 'lank', 'test'], ['dollar', 'rate', 'gold', 'franc', 'london'], ['percent', 'plan', 'rupiah', 'stock', 'point'], ['trad', 'nymex', 'move', 'york', 'day'], ['percent', 'bill', 'rate', 'month', 'greec'], ['profit', 'guin', 'increas', 'stead', 'invest'], ['chin', 'troop', 'offic', 'kong', 'hong'], ['levi', 'own', 'vartek', 'zagreb', 'privat'], ['chart', 'shar', 'million', 'anal', 'techn'], ['yen', 'brok', 'dollar', 'option', 'mark'], ['profit', 'mulph', 'intern', 'net', 'pct'], ['techn', 'iws', 'wool', 'adopt', 'industr'], ['beat', 'pierc', 'german', 'play', 'medvedev'], ['bebet', 'blackburn', 'play', 'million', 'world'], ['trad', 'percent', 'peso', 'shar', 'ctc'], ['bank', 'baht', 'cent', 'specul', 'defend'], ['dollar', 'rupee', 'bank', 'deal', 'premia'], ['portug', 'drain', 'bank', 'rate', 'fix'], ['daley', 'clinton', 'commerc', 'room', 'announc'], ['rupee', 'rbi', 'bank', 'percent', 'dollar'], ['target', 'inflat', 'bank', 'israel', 'year'], ['play', 'world', 'cup', 'year', 'game'], ['beti', 'real', 'defend', 'madrid', 'game'], ['premy', 'farnel', 'profit', 'result', 'busi'], ['polish', 'invest', 'billion', 'bid', 'zloty'], ['pric', 'ringgit', 'clos', 'kg', 'low'], ['leagu', 'corp', 'dodg', 'basebal', 'new'], ['pct', 'lev', 'issu', 'bid', 'percent'], ['volkswagen', 'trad', 'percent', 'shar', 'deliv'], ['pension', 'menem', 'issu', 'argentin', 'bond'], ['fix', 'zloty', 'nbp', 'mark', 'percent'], ['shar', 'henderson', 'din', 'vodafon', 'stock'], ['jospin', 'franc', 'euro', 'european', 'stabl'], ['dollar', 'end', 'kiwi', 'sell', 'open'], ['pric', 'market', 'week', 'coffee', 'brem'], ['pound', 'day', 'million', 'bill', 'worth'], ['project', 'billion', 'fisc', 'budget', 'year'], ['pdt', 'cell', 'snet2', 'canc', 'drug'], ['day', 'telkom', 'london', 'clos', 'telekomunikas'], ['dollar', 'decemb', 'mark', 'trad', 'yen'], ['virgin', 'file', 'offer', 'facil', 'develop'], ['issu', 'billion', 'mark', 'bundesbank', 'bobl'], ['kenned', 'glob', 'offic', 'verroch', 'girl'], ['bse', 'market', 'shar', 'correct', 'stock'], ['million', 'gos', 'bond', 'qualif', 'issu'], ['bank', 'chin', 'foreign', 'busi', 'citibank'], ['ira', 'loyal', 'ireland', 'brit', 'sin'], ['eurodol', 'euroy', 'march', 'end', 'contract'], ['investcorp', 'compan', 'increas', 'million', 'profit'], ['rate', 'point', 'fts', 'result', 'deal'], ['socc', 'cup', 'result', 'engl', 'divid'], ['tax', 'rais', 'senat', 'cigaret', 'cent'], ['fiat', 'shar', 'govern', 'metalwork', 'union'], ['yen', 'dollar', 'expect', 'deal', 'market'], ['open', 'minist', 'erez', 'brok', 'lead'], ['mobil', 'motor', 'oil', 'formul', 'degree'], ['iraq', 'kurd', 'dinar', 'northern', 'countr'], ['invest', 'afric', 'south', 'stal', 'foreign'], ['bond', 'deal', 'drachm', 'ecu', 'month'], ['latvian', 'gas', 'ruhrg', 'shar', 'debt'], ['goldsmith', 'canc', 'sir', 'die', 'jame'], ['bank', 'term', 'lower', 'asia', 'east'], ['franc', 'tend', 'rate', 'french', 'bank'], ['open', 'talk', 'sky', 'airlin', 'alli'], ['swiss', 'snb', 'plan', 'gold', 'group'], ['rand', 'market', 'bond', 'trad', 'percent'], ['dollar', 'mark', 'deal', 'percent', 'low'], ['iraq', 'oil', 'sanct', 'pric', 'object'], ['amend', 'budget', 'balanc', 'pass', 'congress'], ['kabl', 'mobutu', 'kinshas', 'polit', 'govern'], ['rate', 'research', 'assign', 'nikk', 'seik'], ['carg', 'ton', 'hour', 'karach', 'port'], ['billion', 'peset', 'quart', 'profit', 'net'], ['par', 'carg', 'americ', 'rate', 'air'], ['iraq', 'chin', 'oil', 'field', 'barrel'], ['industr', 'drug', 'afric', 'south', 'lanc'], ['zion', 'aspen', 'shar', 'million', 'bancorp'], ['yen', 'prft', 'loss', 'forecast', 'bank'], ['percent', 'cost', 'hk', 'turnbull', 'carg'], ['bank', 'austr', 'vote', 'klim', 'chancellor'], ['july', 'bank', 'reut', 'kroon', 'cent'], ['polar', 'lloyd', 'line', 'market', 'syndic'], ['olymp', 'loan', 'compan', 'lawsuit', 'rate'], ['barmb', 'head', 'everton', 'point', 'late'], ['alban', 'german', 'juergen', 'world', 'cup'], ['stg', 'million', 'turn', 'allen', 'construc'], ['seed', 'world', 'singl', 'men', 'beck'], ['ton', 'wheat', 'tend', 'august', 'july'], ['deal', 'money', 'rupee', 'clos', 'bank'], ['new', 'bt', 'mci', 'merg', 'corp'], ['strik', 'doct', 'govern', 'stat', 'nur'], ['liby', 'raid', 'tripol', 'stat', 'air'], ['mar', 'week', 'end', 'administ', 'gross'], ['diseas', 'alzheim', 'brain', 'lesion', 'study'], ['percent', 'data', 'manag', 'market', 'fund'], ['beeb', 'sign', 'season', 'receiv', 'pack'], ['group', 'ord', 'profit', 'thyss', 'percent'], ['theatr', 'die', 'span', 'casar', 'franc'], ['cent', 'rub', 'deal', 'singapor', 'bridgeston'], ['indones', 'agree', 'croat', 'murdion', 'relat'], ['bank', 'sa', 'pekao', 'stat', 'million'], ['tobacc', 'carolin', 'north', 'produc', 'grow'], ['rate', 'stock', 'rais', 'feder', 'market'], ['mr', 'mata', 'secur', 'quot', 'govern'], ['al', 'sheikh', 'saad', 'kuwait', 'minist'], ['creek', 'school', 'bond', 'cher', 'trad'], ['philip', 'captain', 'saint', 'andr', 'play'], ['high', 'dollar', 'canad', 'yr', 'hit'], ['rate', 'market', 'israel', 'bank', 'percent'], ['stg', 'result', 'high', 'gmt', 'group'], ['open', 'stock', 'chilean', 'day', 'index'], ['antibod', 'design', 'trial', 'protein', 'pdl'], ['thrift', 'seidm', 'offic', 'econom', 'industr'], ['market', 'specul', 'accc', 'fel', 'bank'], ['shar', 'quart', 'end', 'unit', 'earn'], ['zloty', 'trad', 'stock', 'million', 'continu'], ['emmy', 'comed', 'actress', 'hunt', 'helen'], ['greensp', 'crown', 'danish', 'bours', 'trad'], ['eu', 'wheat', 'grain', 'export', 'ton'], ['sign', 'union', 'yeltsin', 'lukashenk', 'econom'], ['percent', 'davi', 'vote', 'jone', 'won'], ['yen', 'pric', 'kg', 'indium', 'metal'], ['gold', 'ton', 'kazakhst', 'year', 'output'], ['bank', 'foreign', 'loan', 'currenc', 'schem'], ['kidnap', 'yemen', 'releas', 'trib', 'million'], ['hryvn', 'million', 'dollar', 'edg', 'kief'], ['tam', 'aircraft', 'passeng', 'explos', 'brazil'], ['rate', 'mark', 'dollar', 'wednesday', 'gmt'], ['day', 'provinc', 'western', 'tea', 'open'], ['franc', 'dollar', 'lamassor', 'undervalu', 'european'], ['million', 'thomson', 'sgs', 'result', 'quart'], ['month', 'yield', 'bid', 'sri', 'lank'], ['million', 'bln', 'end', 'july', 'gdp'], ['canad', 'export', 'notion', 'rate', 'week'], ['load', 'rain', 'port', 'grain', 'santo'], ['propert', 'plmo', 'financ', 'baht', 'billion'], ['option', 'stock', 'monday', 'octob', 'open'], ['charg', 'profit', 'markk', 'million', 'net'], ['commit', 'court', 'damag', 'guerin', 'claim'], ['bank', 'deal', 'cent', 'fix', 'slow'], ['thyss', 'work', 'meet', 'bid', 'krup'], ['shill', 'dollar', 'market', 'rate', 'keny'], ['colomb', 'food', 'poison', 'outbreak', 'radio'], ['simeon', 'lose', 'appeal', 'madrid', 'ban'], ['natur', 'month', 'percent', 'wond', 'stor'], ['yerev', 'cup', 'armen', 'ararat', 'socc'], ['cholesterol', 'heart', 'bypass', 'percent', 'level'], ['indones', 'gold', 'nbi', 'fami', 'body'], ['kiwi', 'trad', 'open', 'rang', 'back'], ['bank', 'percent', 'high', 'rate', 'interest'], ['rupee', 'fall', 'dollar', 'clos', 'take'], ['roman', 'clinton', 'nato', 'presid', 'buchar'], ['alcohol', 'fami', 'meet', 'kenned', 'kennedy'], ['ton', 'adp', 'pari', 'york', 'august'], ['afric', 'money', 'billion', 'rand', 'south'], ['vietnam', 'work', 'labor', 'chen', 'abus'], ['sery', 'atlant', 'miam', 'confer', 'sunday'], ['csi', 'billion', 'off', 'stat', 'steel'], ['japan', 'taiw', 'import', 'orang', 'wto'], ['bank', 'rate', 'peso', 'cent', 'fall'], ['develop', 'javabean', 'platform', 'specif', 'java'], ['run', 'inn', 'win', 'hit', 'game'], ['rate', 'cent', 'bank', 'percent', 'borrow'], ['bankoa', 'off', 'cnmv', 'count', 'credit'], ['gold', 'platin', 'deal', 'fix', 'silf']]\n"
     ]
    }
   ],
   "source": [
    "TOP = 5\n",
    "words = set() # every word in the doc\n",
    "top_words = set() # a set of TOP # words from each article\n",
    "features = [] # array of array of top word \n",
    "for i in range (X.shape[0]):\n",
    "    tally = dict()\n",
    "    # this for loop get all words and count their frequency of each article, \n",
    "    for word in X['article_words'][i].split(','):\n",
    "        words.add(word)\n",
    "        if word not in tally.keys():\n",
    "            tally[word] = 1\n",
    "        else:\n",
    "            tally[word] +=1\n",
    "    #print(tally)\n",
    "    sorted_tally = sorted(tally.items(), key=lambda kv: kv[1], reverse=True)\n",
    "    #print(sorted_tally[:TOP], y['topic'][i])\n",
    "    \n",
    "    # this loop puts top words to the list of features\n",
    "    loc_feat = []\n",
    "    for j in range(TOP):\n",
    "        top_words.add(sorted_tally[j][0])\n",
    "        loc_feat.append(sorted_tally[j][0])\n",
    "    features.append(loc_feat)    \n",
    "    \n",
    "print(len(words)) # 8112\n",
    "#print(words)\n",
    "print(len(top_words)) #1112\n",
    "#print(top_words) \n",
    "print(features)\n"
   ]
  },
  {
   "cell_type": "code",
   "execution_count": 6,
   "metadata": {},
   "outputs": [
    {
     "name": "stdout",
     "output_type": "stream",
     "text": [
      "{'britain': 0, 'mar': 1, 'timb': 2, 'aerospatial': 3, 'san': 4, 'institut': 5, 'lev': 6, 'trial': 7, 'july': 8, 'field': 9, 'plmo': 10, 'matur': 11, 'strik': 12, 'win': 13, 'champ': 14, 'minut': 15, 'graham': 16, 'aetn': 17, 'dube': 18, 'summit': 19, 'petr': 20, 'outbreak': 21, 'human': 22, 'medvedev': 23, 'canad': 24, 'fourth': 25, 'eston': 26, 'mobutu': 27, 'tdb': 28, 'malon': 29, 'period': 30, 'quart': 31, 'moody': 32, 'west': 33, 'scor': 34, 'casar': 35, 'hole': 36, 'bancorp': 37, 'brug': 38, 'hugoton': 39, 'drachm': 40, 'world': 41, 'administ': 42, 'london': 43, 'easy': 44, 'rupee': 45, 'agricultur': 46, 'snet2': 47, 'social': 48, 'bebet': 49, 'gener': 50, 'weapon': 51, 'raasuk': 52, 'deficit': 53, 'kuwait': 54, 'roethlisberg': 55, 'campaign': 56, 'england': 57, 'muss': 58, 'yemen': 59, 'threat': 60, 'kazakhst': 61, 'job': 62, 'cpi': 63, 'thom': 64, 'bill': 65, 'valmet': 66, 'ireland': 67, 'patient': 68, 'shaamit': 69, 'export': 70, 'thyss': 71, 'veter': 72, 'alli': 73, 'file': 74, 'vict': 75, 'intermed': 76, 'held': 77, 'party': 78, 'run': 79, 'brent': 80, 'sery': 81, 'result': 82, 'outflow': 83, 'nkoss': 84, 'race': 85, 'pibor': 86, 'sky': 87, 'phon': 88, 'host': 89, 'motor': 90, 'germ': 91, 'station': 92, 'own': 93, 'cnb': 94, 'regist': 95, 'coupon': 96, 'yeltsin': 97, 'engl': 98, 'custom': 99, 'mw': 100, 'short': 101, 'st': 102, 'payment': 103, 'beij': 104, 'simeon': 105, 'yerev': 106, 'reai': 107, 'apr': 108, 'vietnam': 109, 'move': 110, 'salar': 111, 'netherland': 112, 'body': 113, 'tobacc': 114, 'date': 115, 'bushel': 116, 'back': 117, 'low': 118, 'hong': 119, 'port': 120, 'clark': 121, 'krajicek': 122, 'add': 123, 'rub': 124, 'mulph': 125, 'santo': 126, 'juergen': 127, 'weather': 128, 'crash': 129, 'sound': 130, 'secur': 131, 'bnr': 132, 'drug': 133, 'quot': 134, 'bridgeston': 135, 'beck': 136, 'resign': 137, 'hk': 138, 'karach': 139, 'natur': 140, 'nime': 141, 'ioniko': 142, 'klim': 143, 'europ': 144, 'bt': 145, 'dkb': 146, 'hung': 147, 'relat': 148, 'philip': 149, 'chilean': 150, 'flour': 151, 'east': 152, 'load': 153, 'ag': 154, 'act': 155, 'art': 156, 'asia': 157, 'trent': 158, 'increas': 159, 'round': 160, 'philippin': 161, 'event': 162, 'match': 163, 'knight': 164, 'hryvn': 165, 'armen': 166, 'june': 167, 'nbi': 168, 'high': 169, 'alban': 170, 'guerin': 171, 'janu': 172, 'payrol': 173, 'jet': 174, 'lira': 175, 'firm': 176, 'fujimor': 177, 'roman': 178, 'pip': 179, 'patriot': 180, 'riversid': 181, 'cocoa': 182, 'bid': 183, 'swed': 184, 'amount': 185, 'erez': 186, 'singl': 187, 'tudjm': 188, 'aver': 189, 'barcelon': 190, 'abus': 191, 'broker': 192, 'rbi': 193, 'budget': 194, 'dec': 195, 'accid': 196, 'commonwealth': 197, 'pape': 198, 'kenned': 199, 'goal': 200, 'compan': 201, 'reich': 202, 'telkom': 203, 'chip': 204, 'keny': 205, 'congress': 206, 'council': 207, 'propert': 208, 'afric': 209, 'love': 210, 'cigaret': 211, 'platform': 212, 'indict': 213, 'edie': 214, 'miam': 215, 'kangaroo': 216, 'kesk': 217, 'corp': 218, 'operat': 219, 'kiwi': 220, 'wond': 221, 'reform': 222, 'eas': 223, 'pfennig': 224, 'unchang': 225, 'joint': 226, 'domest': 227, 'rebel': 228, 'daley': 229, 'syndic': 230, 'kerb': 231, 'balanc': 232, 'seat': 233, 'assoc': 234, 'eurofight': 235, 'dax': 236, 'air': 237, 'mich': 238, 'suppl': 239, 'poison': 240, 'javabean': 241, 'stabl': 242, 'manag': 243, 'californ': 244, 'airlin': 245, 'gas': 246, 'florid': 247, 'growth': 248, 'monet': 249, 'coal': 250, 'cup': 251, 'season': 252, 'hold': 253, 'decid': 254, 'oct': 255, 'euroy': 256, 'yr': 257, 'spot': 258, 'fight': 259, 'take': 260, 'belgian': 261, 'gold': 262, 'faction': 263, 'afghanist': 264, 'motlats': 265, 'western': 266, 'includ': 267, 'aug': 268, 'chairm': 269, 'hiv': 270, 'ctc': 271, 'heart': 272, 'sunday': 273, 'provinc': 274, 'awdry': 275, 'clos': 276, 'govern': 277, 'brazil': 278, 'everton': 279, 'prft': 280, 'rule': 281, 'eqo': 282, 'approv': 283, 'rang': 284, 'raid': 285, 'medicar': 286, 'clon': 287, 'troop': 288, 'contract': 289, 'mr': 290, 'athinaiko': 291, 'martial': 292, 'vit': 293, 'techn': 294, 'malbak': 295, 'nur': 296, 'pric': 297, 'socc': 298, 'niger': 299, 'hous': 300, 'kennedy': 301, 'unit': 302, 'metalwork': 303, 'sis': 304, 'kabl': 305, 'seik': 306, 'nomur': 307, 'bank': 308, 'guin': 309, 'brem': 310, 'rand': 311, 'day': 312, 'fund': 313, 'deliv': 314, 'bellsouth': 315, 'novemb': 316, 'fri': 317, 'qualif': 318, 'iraq': 319, 'award': 320, 'italy': 321, 'octob': 322, 'helissio': 323, 'project': 324, 'year': 325, 'heavy': 326, 'invest': 327, 'severn': 328, 'stand': 329, 'thomson': 330, 'plantat': 331, 'fami': 332, 'tomb': 333, 'tax': 334, 'bse': 335, 'data': 336, 'servic': 337, 'dutch': 338, 'won': 339, 'senat': 340, 'women': 341, 'sake': 342, 'pdl': 343, 'futur': 344, 'raja': 345, 'moscow': 346, 'rtg': 347, 'exempt': 348, 'hunt': 349, 'vehicl': 350, 'gross': 351, 'mci': 352, 'saad': 353, 'farm': 354, 'paniliako': 355, 'men': 356, 'develop': 357, 'comed': 358, 'sanct': 359, 'index': 360, 'damag': 361, 'whit': 362, 'tangl': 363, 'revers': 364, 'dell': 365, 'industr': 366, 'oklahom': 367, 'issu': 368, 'wi': 369, 'portug': 370, 'snb': 371, 'barney': 372, 'mexic': 373, 'iws': 374, 'zagreb': 375, 'waigel': 376, 'mugab': 377, 'market': 378, 'machin': 379, 'premia': 380, 'million': 381, 'rumor': 382, 'slow': 383, 'countr': 384, 'marc': 385, 'lamassor': 386, 'offer': 387, 'set': 388, 'ord': 389, 'drain': 390, 'william': 391, 'ba': 392, 'sin': 393, 'sale': 394, 'late': 395, 'bours': 396, 'intern': 397, 'arsen': 398, 'call': 399, 'diseas': 400, 'assign': 401, 'stock': 402, 'game': 403, 'blu': 404, 'smok': 405, 'sir': 406, 'brit': 407, 'derby': 408, 'madrid': 409, 'typhoon': 410, 'forint': 411, 'board': 412, 'basi': 413, 'union': 414, 'sakai': 415, 'marin': 416, 'kinshas': 417, 'seed': 418, 'latvian': 419, 'candid': 420, 'enlarg': 421, 'investig': 422, 'sheikh': 423, 'hysan': 424, 'provid': 425, 'indium': 426, 'pow': 427, 'month': 428, 'burn': 429, 'cfo': 430, 'north': 431, 'tescorp': 432, 'hoechst': 433, 'antiqu': 434, 'polish': 435, 'fifa': 436, 'liber': 437, 'norweg': 438, 'agree': 439, 'casablanc': 440, 'rice': 441, 'exclud': 442, 'espy': 443, 'radisy': 444, 'milit': 445, 'film': 446, 'thu': 447, 'solut': 448, 'borrow': 449, 'zion': 450, 'toky': 451, 'chart': 452, 'mon': 453, 'alzheim': 454, 'tosovsk': 455, 'lexington': 456, 'russia': 457, 'real': 458, 'nbp': 459, 'peset': 460, 'net': 461, 'interim': 462, 'atrix': 463, 'boliv': 464, 'satel': 465, 'americ': 466, 'jospin': 467, 'cotton': 468, 'percent': 469, 'concern': 470, 'euro': 471, 'usa': 472, 'interest': 473, 'liby': 474, 'time': 475, 'envi': 476, 'foreign': 477, 'excess': 478, 'graf': 479, 'pound': 480, 'outag': 481, 'hit': 482, 'miguel': 483, 'pcs': 484, 'vicenz': 485, 'execut': 486, 'kg': 487, 'singapor': 488, 'formul': 489, 'styl': 490, 'bueno': 491, 'postpon': 492, 'emerg': 493, 'credit': 494, 'seidm': 495, 'tam': 496, 'jan': 497, 'deal': 498, 'sonitech': 499, 'thrift': 500, 'eu': 501, 'pacif': 502, 'royal': 503, 'khm': 504, 'mother': 505, 'train': 506, 'andr': 507, 'specul': 508, 'magazin': 509, 'busi': 510, 'beeb': 511, 'virgin': 512, 'nikk': 513, 'prem': 514, 'czech': 515, 'activ': 516, 'telekomunikas': 517, 'java': 518, 'lewi': 519, 'unemploy': 520, 'swap': 521, 'henderson': 522, 'aircraft': 523, 'brook': 524, 'challeng': 525, 'band': 526, 'malar': 527, 'stak': 528, 'widad': 529, 'christoph': 530, 'baa': 531, 'indones': 532, 'udin': 533, 'beat': 534, 'symbol': 535, 'music': 536, 'loan': 537, 'stor': 538, 'corpor': 539, 'lufthans': 540, 'billiton': 541, 'serv': 542, 'commun': 543, 'trad': 544, 'dmp': 545, 'volut': 546, 'borg': 547, 'carg': 548, 'quint': 549, 'french': 550, 'verroch': 551, 'lose': 552, 'ararat': 553, 'coffee': 554, 'purchas': 555, 'finish': 556, 'budap': 557, 'friday': 558, 'beti': 559, 'ship': 560, 'tv': 561, 'stead': 562, 'confer': 563, 'citibank': 564, 'today': 565, 'kief': 566, 'receiv': 567, 'allen': 568, 'fix': 569, 'mitsubish': 570, 'larg': 571, 'murdion': 572, 'commerc': 573, 'output': 574, 'accc': 575, 'profit': 576, 'wood': 577, 'mln': 578, 'guam': 579, 'tripol': 580, 'kagaku': 581, 'imf': 582, 'par': 583, 'medic': 584, 'radar': 585, 'contribut': 586, 'week': 587, 'photofin': 588, 'loyal': 589, 'defend': 590, 'potash': 591, 'olymp': 592, 'kong': 593, 'lpg': 594, 'adjust': 595, 'wheat': 596, 'mph': 597, 'thai': 598, 'fed': 599, 'rupiah': 600, 'amnest': 601, 'dodg': 602, 'feder': 603, 'fts': 604, 'csi': 605, 'uk': 606, 'pekao': 607, 'sebastianel': 608, 'land': 609, 'rate': 610, 'tend': 611, 'ranariddh': 612, 'cholesterol': 613, 'leu': 614, 'atlant': 615, 'unaudit': 616, 'frankfurt': 617, 'arthui': 618, 'lehm': 619, 'list': 620, 'wool': 621, 'enviroserv': 622, 'august': 623, 'ton': 624, 'meet': 625, 'azharuddin': 626, 'telstr': 627, 'pct': 628, 'pga': 629, 'turnov': 630, 'korea': 631, 'rsc': 632, 'charg': 633, 'surplus': 634, 'orang': 635, 'sgs': 636, 'retail': 637, 'king': 638, 'process': 639, 'allerg': 640, 'span': 641, 'dollar': 642, 'shell': 643, 'total': 644, 'sharp': 645, 'cop': 646, 'silf': 647, 'broad': 648, 'bundesbank': 649, 'ruokatal': 650, 'cell': 651, 'turism': 652, 'sulz': 653, 'shar': 654, 'ira': 655, 'india': 656, 'austr': 657, 'march': 658, 'osak': 659, 'burm': 660, 'study': 661, 'ventur': 662, 'degree': 663, 'a3': 664, 'glob': 665, 'south': 666, 'rise': 667, 'reject': 668, 'ecu': 669, 'grow': 670, 'lloyd': 671, 'cmag': 672, 'engin': 673, 'tafi': 674, 'heus': 675, 'brok': 676, 'school': 677, 'pass': 678, 'davi': 679, 'appeal': 680, 'bobl': 681, 'hour': 682, 'maastricht': 683, 'goldsmith': 684, 'ahlberg': 685, 'illeg': 686, 'child': 687, 'swiss': 688, 'lead': 689, 'transpar': 690, 'actress': 691, 'kidnap': 692, 'leas': 693, 'rushdie': 694, 'york': 695, 'ringgit': 696, 'reut': 697, 'polit': 698, 'nige': 699, 'kohl': 700, 'fond': 701, 'mill': 702, 'koram': 703, 'erm': 704, 'case': 705, 'pdt': 706, 'kurd': 707, 'grain': 708, 'toyot': 709, 'talk': 710, 'rich': 711, 'sign': 712, 'resum': 713, 'greensp': 714, 'saint': 715, 'calcul': 716, 'kroon': 717, 'crown': 718, 'vartek': 719, 'buy': 720, 'produc': 721, 'cong': 722, 'confid': 723, 'rain': 724, 'acf': 725, 'inc': 726, 'banan': 727, 'passeng': 728, 'millfeed': 729, 'plant': 730, 'microsoft': 731, 'pharaoh': 732, 'retir': 733, 'independ': 734, 'claim': 735, 'club': 736, 'cbr': 737, 'girl': 738, 'krup': 739, 'half': 740, 'guild': 741, 'mobil': 742, 'suic': 743, 'steel': 744, 'tea': 745, 'mark': 746, 'minist': 747, 'gdi': 748, 'zealand': 749, 'problem': 750, 'ticket': 751, 'sainsbur': 752, 'fel': 753, 'correct': 754, 'off': 755, 'merg': 756, 'fiorentin': 757, 'zloty': 758, 'jame': 759, 'de': 760, 'room': 761, 'grand': 762, 'doubleday': 763, 'strong': 764, 'ten': 765, 'capit': 766, 'pig': 767, 'group': 768, 'limit': 769, 'fila': 770, 'pigment': 771, 'colomb': 772, 'polic': 773, 'test': 774, 'disarma': 775, 'chin': 776, 'law': 777, 'bell': 778, 'end': 779, 'diary': 780, 'wern': 781, 'szumsk': 782, 'mo': 783, 'premy': 784, 'metal': 785, 'uzbekist': 786, 'notion': 787, 'european': 788, 'braun': 789, 'poll': 790, 'peso': 791, 'kali': 792, 'jone': 793, 'bund': 794, 'new': 795, 'cher': 796, 'offic': 797, 'mcnult': 798, 'shill': 799, 'csf': 800, 'najibullah': 801, 'cbot': 802, 'april': 803, 'protein': 804, 'cia': 805, 'cattl': 806, 'stat': 807, 'rais': 808, 'parent': 809, 'ofk': 810, 'rally': 811, 'gujr': 812, 'currenc': 813, 'buchar': 814, 'nymex': 815, 'iii': 816, 'cover': 817, 'kabul': 818, 'diagnost': 819, 'bond': 820, 'protest': 821, 'german': 822, 'bln': 823, 'taiw': 824, 'ruhrg': 825, 'polar': 826, 'blak': 827, 'compostel': 828, 'launch': 829, 'vodafon': 830, 'fiat': 831, 'remain': 832, 'money': 833, 'econom': 834, 'war': 835, 'construc': 836, 'auction': 837, 'clinton': 838, 'gmt': 839, 'cricket': 840, 'elf': 841, 'ipe': 842, 'cultur': 843, 'telecom': 844, 'helen': 845, 'network': 846, 'hope': 847, 'golf': 848, 'harradin': 849, 'lesion': 850, 'wilm': 851, 'show': 852, 'fisc': 853, 'taleb': 854, 'divid': 855, 'schill': 856, 'lower': 857, 'specif': 858, 'loss': 859, 'doct': 860, 'term': 861, 'basebal': 862, 'bypass': 863, 'fire': 864, 'worth': 865, 'croat': 866, 'pe220': 867, 'constitut': 868, 'brain': 869, 'mata': 870, 'bottl': 871, 'prix': 872, 'memb': 873, 'farnel': 874, 'gdp': 875, 'head': 876, 'drill': 877, 'stockport': 878, 'coca': 879, 'immigr': 880, 'titl': 881, 'repeat': 882, 'ban': 883, 'stal': 884, 'soot': 885, 'bloch': 886, 'cambod': 887, 'markk': 888, 'franc': 889, 'goedert': 890, 'c4': 891, 'wto': 892, 'turn': 893, 'wednesday': 894, 'schem': 895, 'pierc': 896, 'food': 897, 'levi': 898, 'baby': 899, 'billion': 900, 'nikkei': 901, 'presid': 902, 'iran': 903, 'design': 904, 'eps': 905, 'convertibl': 906, 'forecast': 907, 'leagu': 908, 'ioc': 909, 'feedlot': 910, 'repo': 911, 'perform': 912, 'cnmv': 913, 'sacch': 914, 'vien': 915, 'sieb': 916, 'pitch': 917, 'dividend': 918, 'canc': 919, 'barmb': 920, 'creek': 921, 'chen': 922, 'din': 923, 'arc': 924, 'arkans': 925, 'chesterfield': 926, 'hospit': 927, 'scand': 928, 'army': 929, 'lend': 930, 'decemb': 931, 'siber': 932, 'cad': 933, 'egypt': 934, 'brown': 935, 'prim': 936, 'refer': 937, 'liquid': 938, 'villalobo': 939, 'adopt': 940, 'report': 941, 'oil': 942, 'session': 943, 'sourc': 944, 'edg': 945, 'peopl': 946, 'mth': 947, 'monday': 948, 'work': 949, 'object': 950, 'fuel': 951, 'court': 952, 'cent': 953, 'city': 954, 'flight': 955, 'draw': 956, 'chang': 957, 'robert': 958, 'baht': 959, 'unbundl': 960, 'mine': 961, 'int': 962, 'islam': 963, 'lab': 964, 'ont': 965, 'base': 966, 'inflat': 967, 'belg': 968, 'landmin': 969, 'menem': 970, 'alcohol': 971, 'sri': 972, 'storm': 973, 'rubin': 974, 'merck': 975, 'weak': 976, 'johannesburg': 977, 'fim': 978, 'pay': 979, 'investcorp': 980, 'point': 981, 'emmy': 982, 'exercis': 983, 'die': 984, 'undervalu': 985, 'chancellor': 986, 'munich': 987, 'option': 988, 'finland': 989, 'domin': 990, 'blackburn': 991, 'complet': 992, 'argentin': 993, 'debt': 994, 'captain': 995, 'play': 996, 'mladost': 997, 'sumitom': 998, 'fall': 999, 'kans': 1000, 'buducnost': 1001, 'greec': 1002, 'cola': 1003, 'import': 1004, 'line': 1005, 'barrel': 1006, 'lukashenk': 1007, 'commit': 1008, 'ruet': 1009, 'schedul': 1010, 'carolin': 1011, 'announc': 1012, 'amend': 1013, 'acquir': 1014, 'zoll': 1015, 'breck': 1016, 'sell': 1017, 'adp': 1018, 'elect': 1019, 'yen': 1020, 'cost': 1021, 'ecuador': 1022, 'lank': 1023, 'norway': 1024, 'harvest': 1025, 'yield': 1026, 'special': 1027, 'revenu': 1028, 'system': 1029, 'sanritsu': 1030, 'target': 1031, 'comput': 1032, 'riso': 1033, 'cut': 1034, 'israel': 1035, 'right': 1036, 'trib': 1037, 'nato': 1038, 'roubl': 1039, 'releas': 1040, 'met': 1041, 'research': 1042, 'gos': 1043, 'lanc': 1044, 'avi': 1045, 'debentur': 1046, 'pack': 1047, 'spin': 1048, 'hamanak': 1049, 'earn': 1050, 'bozhkov': 1051, 'volkswagen': 1052, 'theatr': 1053, 'stg': 1054, 'long': 1055, 'ago': 1056, 'philadelph': 1057, 'emu': 1058, 'treasur': 1059, 'expect': 1060, 'jord': 1061, 'antibod': 1062, 'al': 1063, 'ukrain': 1064, 'financ': 1065, 'vote': 1066, 'spain': 1067, 'platin': 1068, 'stockholm': 1069, 'bankoa': 1070, 'explos': 1071, 'dudakov': 1072, 'father': 1073, 'reserv': 1074, 'facil': 1075, 'turnbull': 1076, 'inn': 1077, 'indy': 1078, 'municip': 1079, 'radio': 1080, 'spons': 1081, 'level': 1082, 'float': 1083, 'milan': 1084, 'detroit': 1085, 'man': 1086, 'privat': 1087, 'pension': 1088, 'fotolab': 1089, 'liverpool': 1090, 'pari': 1091, 'settl': 1092, 'aspen': 1093, 'continu': 1094, 'lawsuit': 1095, 'count': 1096, 'austral': 1097, 'eurodol': 1098, 'northern': 1099, 'open': 1100, 'dinar': 1101, 'agent': 1102, 'boruss': 1103, 'japan': 1104, 'priz': 1105, 'danish': 1106, 'plan': 1107, 'sa': 1108, 'labor': 1109, 'anal': 1110, 'exchang': 1111}\n"
     ]
    }
   ],
   "source": [
    "index = dict()\n",
    "count = 0\n",
    "for word in top_words:\n",
    "    index[word] = count\n",
    "    count+=1\n",
    "print(index)"
   ]
  },
  {
   "cell_type": "code",
   "execution_count": null,
   "metadata": {},
   "outputs": [],
   "source": []
  },
  {
   "cell_type": "code",
   "execution_count": 7,
   "metadata": {},
   "outputs": [
    {
     "name": "stdout",
     "output_type": "stream",
     "text": [
      "   britain  mar  timb  aerospatial  san  institut  lev  trial  july  field  \\\n",
      "0        0    0     0            0    0         0    0      0     0      0   \n",
      "1        0    0     0            0    0         0    0      0     0      0   \n",
      "2        0    0     0            0    0         0    0      0     0      0   \n",
      "3        0    0     0            0    0         0    0      0     0      0   \n",
      "4        0    0     0            0    0         0    0      0     0      0   \n",
      "\n",
      "   ...  agent  boruss  japan  priz  danish  plan  sa  labor  anal  exchang  \n",
      "0  ...      0       0      0     0       0     0   0      0     0        0  \n",
      "1  ...      0       0      0     0       0     0   0      0     0        0  \n",
      "2  ...      0       0      0     0       0     0   0      0     0        0  \n",
      "3  ...      0       0      0     0       0     0   0      0     0        0  \n",
      "4  ...      0       0      0     0       0     0   0      0     0        0  \n",
      "\n",
      "[5 rows x 1112 columns]\n"
     ]
    }
   ],
   "source": [
    "bool_features = []\n",
    "for i in range (len(features)):\n",
    "    bool_f = [0] * len(top_words)\n",
    "    for t in range (TOP):\n",
    "        bool_f[index[features[i][t]]] = 1\n",
    "    bool_features.append(tuple(bool_f))\n",
    "df_cleaned = pd.DataFrame(bool_features, columns = list(top_words))\n",
    "print(df_cleaned.head())\n",
    "df_cleaned.head().to_csv('tmp.csv') # write to file to validate output\n"
   ]
  },
  {
   "cell_type": "code",
   "execution_count": 17,
   "metadata": {},
   "outputs": [
    {
     "name": "stdout",
     "output_type": "stream",
     "text": [
      "[[0. 0. 0. ... 0. 0. 0.]\n",
      " [0. 0. 0. ... 0. 0. 0.]\n",
      " [0. 0. 0. ... 0. 0. 0.]\n",
      " ...\n",
      " [0. 0. 0. ... 0. 0. 0.]\n",
      " [0. 0. 0. ... 0. 1. 0.]\n",
      " [0. 0. 0. ... 0. 0. 0.]]\n"
     ]
    },
    {
     "data": {
      "text/plain": [
       "DecisionTreeClassifier(class_weight=None, criterion='gini', max_depth=None,\n",
       "                       max_features=None, max_leaf_nodes=None,\n",
       "                       min_impurity_decrease=0.0, min_impurity_split=None,\n",
       "                       min_samples_leaf=1, min_samples_split=2,\n",
       "                       min_weight_fraction_leaf=0.0, presort=False,\n",
       "                       random_state=None, splitter='best')"
      ]
     },
     "execution_count": 17,
     "metadata": {},
     "output_type": "execute_result"
    }
   ],
   "source": [
    "from sklearn.preprocessing import OneHotEncoder\n",
    "from sklearn.tree import DecisionTreeClassifier\n",
    "\n",
    "enc = OneHotEncoder(handle_unknown='ignore')\n",
    "enc.fit(y)\n",
    "y_trans = enc.transform(y).toarray()\n",
    "print(y_trans)\n",
    "DT = DecisionTreeClassifier()\n",
    "DT.fit(df_cleaned, y_trans)"
   ]
  },
  {
   "cell_type": "code",
   "execution_count": null,
   "metadata": {},
   "outputs": [],
   "source": []
  }
 ],
 "metadata": {
  "kernelspec": {
   "display_name": "Python 3",
   "language": "python",
   "name": "python3"
  },
  "language_info": {
   "codemirror_mode": {
    "name": "ipython",
    "version": 3
   },
   "file_extension": ".py",
   "mimetype": "text/x-python",
   "name": "python",
   "nbconvert_exporter": "python",
   "pygments_lexer": "ipython3",
   "version": "3.7.4"
  }
 },
 "nbformat": 4,
 "nbformat_minor": 2
}
