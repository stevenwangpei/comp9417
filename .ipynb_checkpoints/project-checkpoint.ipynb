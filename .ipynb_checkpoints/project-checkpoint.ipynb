{
 "cells": [
  {
   "cell_type": "code",
   "execution_count": 27,
   "metadata": {},
   "outputs": [
    {
     "name": "stdout",
     "output_type": "stream",
     "text": [
      "<class 'pandas.core.frame.DataFrame'>\n",
      "RangeIndex: 500 entries, 0 to 499\n",
      "Data columns (total 3 columns):\n",
      "article_number    500 non-null int64\n",
      "article_words     500 non-null object\n",
      "topic             500 non-null object\n",
      "dtypes: int64(1), object(2)\n",
      "memory usage: 11.8+ KB\n"
     ]
    }
   ],
   "source": [
    "import numpy as np\n",
    "import pandas as pd\n",
    "from sklearn import preprocessing\n",
    "\n",
    "df = pd.read_csv('test.csv') # use test which is smaller for development\n",
    "df.info()"
   ]
  },
  {
   "cell_type": "code",
   "execution_count": 4,
   "metadata": {
    "scrolled": true
   },
   "outputs": [
    {
     "data": {
      "text/html": [
       "<div>\n",
       "<style scoped>\n",
       "    .dataframe tbody tr th:only-of-type {\n",
       "        vertical-align: middle;\n",
       "    }\n",
       "\n",
       "    .dataframe tbody tr th {\n",
       "        vertical-align: top;\n",
       "    }\n",
       "\n",
       "    .dataframe thead th {\n",
       "        text-align: right;\n",
       "    }\n",
       "</style>\n",
       "<table border=\"1\" class=\"dataframe\">\n",
       "  <thead>\n",
       "    <tr style=\"text-align: right;\">\n",
       "      <th></th>\n",
       "      <th>article_number</th>\n",
       "      <th>article_words</th>\n",
       "      <th>topic</th>\n",
       "    </tr>\n",
       "  </thead>\n",
       "  <tbody>\n",
       "    <tr>\n",
       "      <td>0</td>\n",
       "      <td>1</td>\n",
       "      <td>open,absent,cent,cent,cent,stock,inflow,rate,k...</td>\n",
       "      <td>FOREX MARKETS</td>\n",
       "    </tr>\n",
       "    <tr>\n",
       "      <td>1</td>\n",
       "      <td>2</td>\n",
       "      <td>morn,stead,end,end,day,day,day,patch,patch,pat...</td>\n",
       "      <td>MONEY MARKETS</td>\n",
       "    </tr>\n",
       "    <tr>\n",
       "      <td>2</td>\n",
       "      <td>3</td>\n",
       "      <td>socc,socc,world,world,recent,law,fifa,fifa,fif...</td>\n",
       "      <td>SPORTS</td>\n",
       "    </tr>\n",
       "    <tr>\n",
       "      <td>3</td>\n",
       "      <td>4</td>\n",
       "      <td>open,forint,forint,forint,forint,cent,cent,ste...</td>\n",
       "      <td>FOREX MARKETS</td>\n",
       "    </tr>\n",
       "    <tr>\n",
       "      <td>4</td>\n",
       "      <td>5</td>\n",
       "      <td>morn,complet,weekend,minut,minut,minut,arrow,d...</td>\n",
       "      <td>IRRELEVANT</td>\n",
       "    </tr>\n",
       "  </tbody>\n",
       "</table>\n",
       "</div>"
      ],
      "text/plain": [
       "   article_number                                      article_words  \\\n",
       "0               1  open,absent,cent,cent,cent,stock,inflow,rate,k...   \n",
       "1               2  morn,stead,end,end,day,day,day,patch,patch,pat...   \n",
       "2               3  socc,socc,world,world,recent,law,fifa,fifa,fif...   \n",
       "3               4  open,forint,forint,forint,forint,cent,cent,ste...   \n",
       "4               5  morn,complet,weekend,minut,minut,minut,arrow,d...   \n",
       "\n",
       "           topic  \n",
       "0  FOREX MARKETS  \n",
       "1  MONEY MARKETS  \n",
       "2         SPORTS  \n",
       "3  FOREX MARKETS  \n",
       "4     IRRELEVANT  "
      ]
     },
     "execution_count": 4,
     "metadata": {},
     "output_type": "execute_result"
    }
   ],
   "source": [
    "df.head()"
   ]
  },
  {
   "cell_type": "code",
   "execution_count": 28,
   "metadata": {},
   "outputs": [],
   "source": [
    "input_cols = ['article_words']\n",
    "out_cols = ['topic']\n",
    "X = df[input_cols]\n",
    "y = df[out_cols]"
   ]
  },
  {
   "cell_type": "code",
   "execution_count": 66,
   "metadata": {},
   "outputs": [
    {
     "name": "stdout",
     "output_type": "stream",
     "text": [
      "8112\n",
      "1112\n",
      "[['hoechst', 'pigment', 'chin', 'invest', 'ventur'], ['reut', 'event', 'august', 'schedul', 'diary'], ['market', 'thai', 'bank', 'peso', 'philippin'], ['comput', 'microsoft', 'network', 'easy', 'industr'], ['servic', 'stat', 'market', 'commit', 'invest'], ['baht', 'rate', 'float', 'exchang', 'fix'], ['airlin', 'flight', 'air', 'stat', 'novemb'], ['open', 'round', 'hole', 'wood', 'clark'], ['money', 'decemb', 'broad', 'jan', 'chang'], ['stock', 'blu', 'chip', 'foreign', 'broker'], ['shar', 'buy', 'high', 'kagaku', 'riso'], ['telstr', 'sale', 'govern', 'harradin', 'concern'], ['braun', 'lewi', 'point', 'finish', 'world'], ['real', 'compostel', 'barcelon', 'held', 'draw'], ['pct', 'uk', 'dec', 'fri', 'mon'], ['pct', 'bill', 'matur', 'day', 'rate'], ['chairm', 'compan', 'add', 'board', 'execut'], ['list', 'ruokatal', 'shar', 'brok', 'hk'], ['ton', 'wheat', 'million', 'year', 'grain'], ['casablanc', 'widad', 'raja', 'divid', 'socc'], ['strong', 'profit', 'sulz', 'swiss', 'net'], ['point', 'institut', 'ringgit', 'deal', 'trad'], ['unemploy', 'jan', 'belgian', 'regist', 'minist'], ['million', 'prft', 'forecast', 'construc', 'year'], ['bank', 'bid', 'rate', 'oct', 'contribut'], ['awdry', 'engin', 'thom', 'child', 'christoph'], ['quart', 'million', 'lehm', 'fourth', 'busi'], ['bond', 'zloty', 'trad', 'year', 'matur'], ['roubl', 'dollar', 'bank', 'rate', 'friday'], ['peso', 'dollar', 'trad', 'mexic', 'weak'], ['won', 'bank', 'dollar', 'cent', 'korea'], ['bank', 'end', 'shar', 'fts', 'deal'], ['campaign', 'elect', 'bill', 'period', 'day'], ['forint', 'million', 'total', 'pct', 'aver'], ['mich', 'moody', 'baa', 'detroit', 'rate'], ['inn', 'england', 'lead', 'tea', 'cricket'], ['million', 'pct', 'bln', 'dec', 'growth'], ['lufthans', 'week', 'ahlberg', 'carg', 'stockholm'], ['zealand', 'rate', 'percent', 'interest', 'dollar'], ['patriot', 'americ', 'march', 'merg', 'date'], ['roethlisberg', 'match', 'fifa', 'swiss', 'world'], ['euro', 'hope', 'rate', 'franc', 'arthui'], ['dividend', 'march', 'group', 'quart', 'amount'], ['research', 'rate', 'steel', 'nikk', 'toky'], ['investig', 'offic', 'immigr', 'kong', 'hong'], ['mine', 'fire', 'minist', 'siber', 'coal'], ['deal', 'market', 'percent', 'bond', 'week'], ['peso', 'trad', 'clos', 'week', 'mexic'], ['lpg', 'cong', 'elf', 'nkoss', 'percent'], ['cad', 'yr', 'canad', 'wi', 'mth'], ['ringgit', 'dollar', 'deal', 'bank', 'heavy'], ['wheat', 'trad', 'bushel', 'deliv', 'cbot'], ['pct', 'yield', 'week', 'bln', 'bid'], ['week', 'market', 'invest', 'rate', 'emerg'], ['rate', 'rupee', 'pct', 'market', 'kerb'], ['aetn', 'year', 'sebastianel', 'presid', 'salar'], ['group', 'stak', 'held', 'file', 'shar'], ['million', 'yen', 'group', 'intern', 'prft'], ['nato', 'weapon', 'threat', 'whit', 'dudakov'], ['deal', 'rate', 'surplus', 'fund', 'open'], ['yen', 'market', 'stock', 'gold', 'trad'], ['ag', 'eqo', 'includ', 'bours', 'vien'], ['hk', 'hysan', 'low', 'profit', 'billion'], ['italy', 'debt', 'emu', 'currenc', 'union'], ['dollar', 'rupee', 'deal', 'level', 'open'], ['flour', 'deal', 'suppl', 'stead', 'mill'], ['foreign', 'debt', 'institut', 'financ', 'term'], ['milan', 'minut', 'sacch', 'win', 'season'], ['tafi', 'world', 'cup', 'round', 'sunday'], ['baht', 'bank', 'deal', 'late', 'dollar'], ['treasur', 'balanc', 'issu', 'million', 'fed'], ['mark', 'franc', 'emu', 'market', 'french'], ['nime', 'cup', 'olymp', 'budap', 'european'], ['beat', 'draw', 'point', 'titl', 'arsen'], ['blak', 'kangaroo', 'mother', 'edie', 'baby'], ['summit', 'nato', 'stat', 'secur', 'european'], ['eu', 'minist', 'erm', 'lira', 'markk'], ['koram', 'produc', 'activ', 'swiss', 'pacif'], ['taleb', 'acf', 'intern', 'women', 'islam'], ['south', 'korea', 'iran', 'quart', 'beat'], ['enviroserv', 'suic', 'firm', 'interim', 'heus'], ['trial', 'graf', 'tax', 'father', 'million'], ['forint', 'million', 'total', 'pct', 'aver'], ['point', 'mark', 'dollar', 'market', 'high'], ['pric', 'millfeed', 'carolin', 'deal', 'stead'], ['bank', 'india', 'call', 'corpor', 'contribut'], ['bank', 'excess', 'settl', 'canad', 'balanc'], ['fix', 'dollar', 'cnb', 'crown', 'mark'], ['market', 'econom', 'anal', 'data', 'expect'], ['mitsubish', 'engin', 'volut', 'gdi', 'percent'], ['stock', 'rice', 'cbot', 'arkans', 'grain'], ['sainsbur', 'brit', 'group', 'retail', 'rate'], ['kans', 'deal', 'wheat', 'oklahom', 'basi'], ['percent', 'unchang', 'month', 'day', 'trad'], ['riversid', 'rate', 'moody', 'a3', 'sale'], ['spin', 'sri', 'lank', 'world', 'play'], ['mexic', 'boliv', 'minut', 'play', 'goal'], ['canad', 'debentur', 'issu', 'sery', 'bell'], ['market', 'germ', 'percent', 'point', 'dax'], ['bank', 'cent', 'rate', 'contribut', 'term'], ['shar', 'invest', 'soot', 'issu', 'turism'], ['bill', 'billion', 'april', 'week', 'matur'], ['rule', 'bellsouth', 'challeng', 'court', 'phon'], ['tomb', 'pharaoh', 'egypt', 'antiqu', 'met'], ['miguel', 'san', 'coca', 'cola', 'bottl'], ['percent', 'rand', 'rate', 'year', 'billion'], ['war', 'radar', 'design', 'ship', 'contract'], ['indy', 'west', 'clos', 'test', 'india'], ['percent', 'hospit', 'florid', 'patient', 'revenu'], ['beat', 'ten', 'intern', 'spain', 'result'], ['bank', 'year', 'anal', 'rise', 'expect'], ['congress', 'year', 'hous', 'total', 'cia'], ['cent', 'end', 'weak', 'contract', 'sell'], ['exercis', 'styl', 'index', 'european', 'americ'], ['yen', 'group', 'eps', 'march', 'corp'], ['train', 'women', 'men', 'milit', 'army'], ['clon', 'research', 'human', 'bill', 'villalobo'], ['day', 'canad', 'rate', 'pape', 'money'], ['plan', 'econom', 'reform', 'retir', 'yemen'], ['borg', 'play', 'game', 'ten', 'win'], ['alzheim', 'diseas', 'goedert', 'tangl', 'fila'], ['barrel', 'stock', 'million', 'tdb', 'singapor'], ['nomur', 'dkb', 'bank', 'secur', 'minist'], ['net', 'shar', 'loss', 'operat', 'sale'], ['clos', 'dollar', 'trad', 'shar', 'percent'], ['market', 'glob', 'euro', 'transpar', 'issu'], ['bank', 'percent', 'dollar', 'cent', 'board'], ['flight', 'day', 'strik', 'air', 'cut'], ['percent', 'fotolab', 'sale', 'acquir', 'photofin'], ['divid', 'socc', 'stockport', 'stand', 'chesterfield'], ['total', 'march', 'silf', 'cbot', 'custom'], ['rubin', 'strong', 'dollar', 'econom', 'growth'], ['sale', 'govern', 'shar', 'india', 'percent'], ['rate', 'refer', 'leu', 'dollar', 'bnr'], ['wto', 'trad', 'invest', 'issu', 'develop'], ['million', 'profit', 'month', 'stg', 'decemb'], ['stat', 'develop', 'corpor', 'bond', 'secur'], ['revers', 'argentin', 'billion', 'set', 'repo'], ['loss', 'markk', 'april', 'polar', 'fim'], ['quot', 'cotton', 'special', 'pric', 'high'], ['bank', 'rate', 'bid', 'contribut', 'spot'], ['yen', 'forecast', 'year', 'parent', 'sake'], ['ton', 'colomb', 'auction', 'rub', 'off'], ['knight', 'zoll', 'medic', 'cfo', 'william'], ['banan', 'polic', 'dube', 'investig', 'presid'], ['cpi', 'reich', 'medicar', 'adjust', 'inflat'], ['muss', 'europ', 'monet', 'imf', 'econom'], ['ukrain', 'germ', 'kief', 'kohl', 'european'], ['percent', 'million', 'market', 'clos', 'stock'], ['forint', 'dollar', 'bank', 'percent', 'hung'], ['ipe', 'fuel', 'jet', 'prem', 'trad'], ['shar', 'trent', 'severn', 'million', 'govern'], ['race', 'prix', 'helissio', 'win', 'arc'], ['symbol', 'stock', 'corp', 'chang', 'commun'], ['kroon', 'million', 'clos', 'deal', 'market'], ['croat', 'group', 'game', 'point', 'spain'], ['world', 'cup', 'qualif', 'mexic', 'cost'], ['deal', 'potash', 'pcs', 'kali', 'compan'], ['brok', 'futur', 'late', 'market', 'currenc'], ['mine', 'afric', 'south', 'memb', 'motlats'], ['patient', 'dmp', 'study', 'merck', 'hiv'], ['divid', 'socc', 'athinaiko', 'ioniko', 'paniliako'], ['netherland', 'san', 'marin', 'socc', 'world'], ['sulz', 'divid', 'ruet', 'hold', 'new'], ['crown', 'bank', 'czech', 'rate', 'vit'], ['shar', 'billiton', 'option', 'million', 'johannesburg'], ['system', 'drill', 'timb', 'atrix', 'wern'], ['kong', 'hong', 'fund', 'land', 'dollar'], ['trad', 'long', 'end', 'rumor', 'bund'], ['base', 'clos', 'doubleday', 'senat', 'vote'], ['peso', 'dollar', 'day', 'million', 'bank'], ['rate', 'foreign', 'raasuk', 'eston', 'bank'], ['niger', 'cmag', 'commonwealth', 'group', 'meet'], ['unaudit', 'loss', 'end', 'shar', 'net'], ['greec', 'deficit', 'million', 'bank', 'show'], ['israel', 'reserv', 'bank', 'jan', 'billion'], ['low', 'week', 'term', 'end', 'yen'], ['dollar', 'rate', 'gold', 'franc', 'london'], ['franc', 'telecom', 'lamassor', 'french', 'minist'], ['bank', 'rich', 'econom', 'swiss', 'snb'], ['pct', 'mar', 'usa', 'uk', 'thu'], ['fix', 'dollar', 'cnb', 'crown', 'mark'], ['rate', 'day', 'million', 'percent', 'peso'], ['shar', 'trad', 'schill', 'point', 'percent'], ['nikkei', 'point', 'yen', 'percent', 'market'], ['unit', 'profit', 'plantat', 'net', 'year'], ['typhoon', 'guam', 'mph', 'expect', 'storm'], ['malbak', 'unbundl', 'kohl', 'group', 'hold'], ['liby', 'market', 'tend', 'postpon', 'buy'], ['yen', 'million', 'group', 'sanritsu', 'eps'], ['stg', 'million', 'money', 'market', 'provid'], ['norway', 'dec', 'oil', 'foreign', 'exclud'], ['mark', 'waigel', 'weak', 'dollar', 'maastricht'], ['scor', 'count', 'day', 'champ', 'cricket'], ['love', 'golf', 'vict', 'play', 'pga'], ['mark', 'market', 'pfennig', 'dax', 'point'], ['minist', 'liquid', 'bozhkov', 'loss', 'industr'], ['protest', 'afric', 'mugab', 'veter', 'govern'], ['pape', 'valmet', 'machin', 'ord', 'south'], ['intermed', 'million', 'year', 'call', 'pay'], ['candid', 'ioc', 'game', 'city', 'decid'], ['clos', 'rupee', 'cover', 'bank', 'dollar'], ['child', 'barney', 'smok', 'act', 'film'], ['dollar', 'mark', 'high', 'trad', 'yen'], ['unit', 'pow', 'mw', 'outag', 'wednesday'], ['defend', 'thomson', 'aerospatial', 'commit', 'csf'], ['stg', 'bill', 'band', 'forecast', 'billion'], ['rate', 'rupee', 'market', 'kerb', 'pct'], ['resign', 'japan', 'bank', 'scand', 'dkb'], ['bank', 'japan', 'market', 'shar', 'stock'], ['mark', 'germ', 'trad', 'percent', 'report'], ['stock', 'complet', 'lexington', 'shar', 'friday'], ['plan', 'crash', 'nige', 'peopl', 'board'], ['rebel', 'fujimor', 'govern', 'host', 'releas'], ['trad', 'buchar', 'stock', 'session', 'bours'], ['fund', 'tax', 'index', 'exempt', 'municip'], ['cocoa', 'trad', 'stg', 'july', 'futur'], ['peso', 'bank', 'cent', 'dollar', 'million'], ['week', 'cattl', 'ago', 'feedlot', 'pric'], ['treasur', 'announc', 'time', 'bill', 'gmt'], ['eurofight', 'budget', 'waigel', 'german', 'minist'], ['weather', 'satel', 'forecast', 'launch', 'storm'], ['rate', 'deal', 'guild', 'trad', 'payment'], ['elect', 'party', 'polit', 'royal', 'king'], ['moscow', 'roubl', 'aug', 'dollar', 'fix'], ['london', 'apr', 'metal', 'jan', 'turnov'], ['fts', 'market', 'shar', 'move', 'today'], ['steel', 'industr', 'graham', 'pric', 'year'], ['rupiah', 'deal', 'bank', 'elect', 'campaign'], ['move', 'sakai', 'raid', 'osak', 'offic'], ['offic', 'landmin', 'ban', 'process', 'clinton'], ['purchas', 'tescorp', 'sis', 'tv', 'joint'], ['real', 'dollar', 'deal', 'outflow', 'reai'], ['japan', 'rate', 'group', 'busi', 'yen'], ['allerg', 'european', 'report', 'wilm', 'problem'], ['shaamit', 'win', 'de', 'retir', 'derby'], ['bill', 'coupon', 'bond', 'iii', 'total'], ['brug', 'half', 'cup', 'minut', 'buchar'], ['disarma', 'faction', 'liber', 'fight', 'afric'], ['real', 'dollar', 'market', 'trad', 'percent'], ['taiw', 'chin', 'provinc', 'beij', 'independ'], ['radisy', 'sonitech', 'intern', 'million', 'acquir'], ['dollar', 'percent', 'rate', 'high', 'swiss'], ['week', 'april', 'data', 'stock', 'provid'], ['rupee', 'pric', 'quint', 'metal', 'cop'], ['dkb', 'bank', 'japan', 'prem', 'fund'], ['provid', 'compan', 'lend', 'profit', 'mar'], ['mark', 'yen', 'dollar', 'deal', 'sale'], ['claim', 'week', 'august', 'payrol', 'market'], ['year', 'ton', 'million', 'import', 'harvest'], ['britain', 'econom', 'emu', 'percent', 'rate'], ['inc', 'int', 'club', 'liverpool', 'season'], ['stabl', 'pric', 'czech', 'import', 'tosovsk'], ['stand', 'wednesday', 'liverpool', 'everton', 'leagu'], ['bill', 'trad', 'rate', 'percent', 'canad'], ['shell', 'dutch', 'sale', 'magazin', 'custom'], ['austral', 'wood', 'open', 'ticket', 'time'], ['jone', 'clinton', 'arkans', 'confer', 'court'], ['iraq', 'oil', 'kuwait', 'claim', 'fire'], ['play', 'beck', 'serv', 'world', 'krajicek'], ['day', 'percent', 'eas', 'bill', 'yield'], ['toyot', 'plant', 'domest', 'output', 'resum'], ['buducnost', 'mladost', 'ofk', 'stand', 'divid'], ['right', 'human', 'burm', 'amnest', 'year'], ['bank', 'deal', 'trad', 'rtg', 'money'], ['bank', 'billion', 'rupiah', 'indones', 'cent'], ['oil', 'ton', 'million', 'gas', 'uzbekist'], ['tudjm', 'croat', 'pow', 'rule', 'lead'], ['day', 'peso', 'rate', 'week', 'million'], ['szumsk', 'law', 'martial', 'gener', 'commun'], ['confid', 'approv', 'plan', 'remain', 'ba'], ['dollar', 'peso', 'trad', 'day', 'mexic'], ['nato', 'russia', 'enlarg', 'offic', 'reject'], ['jord', 'game', 'malon', 'time', 'pip'], ['fond', 'envi', 'c4', 'avi', 'pe220'], ['peso', 'trad', 'rate', 'mexic', 'stabl'], ['stat', 'ecuador', 'burn', 'constitut', 'unit'], ['nikk', 'yen', 'euroy', 'march', 'argentin'], ['won', 'limit', 'debt', 'trad', 'clos'], ['trad', 'oil', 'friday', 'june', 'swap'], ['leas', 'dell', 'solut', 'compan', 'expect'], ['russia', 'canad', 'finland', 'unit', 'stat'], ['najibullah', 'kabul', 'govern', 'man', 'afghanist'], ['poll', 'pibor', 'option', 'elect', 'social'], ['million', 'quart', 'hugoton', 'earn', 'shar'], ['peso', 'clos', 'contract', 'dollar', 'mexic'], ['hit', 'run', 'game', 'lead', 'pitch'], ['oil', 'gas', 'brent', 'ipe', 'cent'], ['rushdie', 'capit', 'cultur', 'award', 'priz'], ['cop', 'hamanak', 'trad', 'sumitom', 'world'], ['sri', 'lank', 'test', 'st', 'june'], ['rate', 'polish', 'agent', 'market', 'cent'], ['approv', 'commit', 'council', 'secur', 'chairm'], ['canad', 'petr', 'rate', 'cbr', 'larg'], ['budget', 'eu', 'european', 'countr', 'brown'], ['sale', 'janu', 'year', 'japan', 'vehicl'], ['minist', 'seat', 'social', 'win', 'party'], ['fix', 'crown', 'percent', 'dollar', 'calcul'], ['elect', 'cambod', 'ranariddh', 'khm', 'polit'], ['boruss', 'st', 'munich', 'play', 'friday'], ['mcnult', 'pric', 'win', 'clos', 'year'], ['sourc', 'eu', 'decid', 'european', 'kesk'], ['swiss', 'fund', 'bank', 'world', 'bloch'], ['diagnost', 'stock', 'lab', 'relat', 'cent'], ['poll', 'result', 'bundesbank', 'rate', 'frankfurt'], ['ecuador', 'offic', 'convertibl', 'econom', 'argentin'], ['brook', 'californ', 'settl', 'stat', 'compan'], ['mln', 'mo', 'ont', 'man', 'provinc'], ['helissio', 'win', 'de', 'repeat', 'cup'], ['malar', 'year', 'afric', 'case', 'sharp'], ['rally', 'race', 'norweg', 'accid', 'hit'], ['sieb', 'perform', 'stock', 'profit', 'percent'], ['time', 'set', 'play', 'round', 'chang'], ['domin', 'sa', 'pow', 'stak', 'capit'], ['minist', 'gujr', 'foreign', 'prim', 'govern'], ['week', 'bond', 'trad', 'yr', 'mar'], ['court', 'open', 'champ', 'show', 'club'], ['udin', 'fiorentin', 'robert', 'marc', 'vicenz'], ['agricultur', 'espy', 'farm', 'indict', 'illeg'], ['bank', 'percent', 'billion', 'markk', 'finland'], ['fiorentin', 'robert', 'marc', 'divid', 'scor'], ['bank', 'rate', 'keny', 'deal', 'market'], ['dollar', 'deal', 'singapor', 'market', 'iraq'], ['rand', 'billion', 'money', 'market', 'short'], ['contract', 'yen', 'spot', 'end', 'august'], ['crown', 'swed', 'market', 'yield', 'mark'], ['pow', 'station', 'stat', 'financ', 'americ'], ['cent', 'argentin', 'bank', 'air', 'bueno'], ['year', 'percent', 'bond', 'austral', 'contract'], ['breck', 'music', 'play', 'philadelph', 'sound'], ['union', 'job', 'polic', 'european', 'belg'], ['st', 'champ', 'race', 'william', 'grand'], ['farm', 'pig', 'provinc', 'assoc', 'outbreak'], ['spons', 'rsc', 'deal', 'compan', 'art'], ['trad', 'day', 'bank', 'friday', 'cent'], ['india', 'azharuddin', 'sri', 'lank', 'test'], ['dollar', 'rate', 'gold', 'franc', 'london'], ['percent', 'plan', 'rupiah', 'stock', 'point'], ['trad', 'nymex', 'move', 'york', 'day'], ['percent', 'bill', 'rate', 'month', 'greec'], ['profit', 'guin', 'increas', 'stead', 'invest'], ['chin', 'troop', 'offic', 'kong', 'hong'], ['levi', 'own', 'vartek', 'zagreb', 'privat'], ['chart', 'shar', 'million', 'anal', 'techn'], ['yen', 'brok', 'dollar', 'option', 'mark'], ['profit', 'mulph', 'intern', 'net', 'pct'], ['techn', 'iws', 'wool', 'adopt', 'industr'], ['beat', 'pierc', 'german', 'play', 'medvedev'], ['bebet', 'blackburn', 'play', 'million', 'world'], ['trad', 'percent', 'peso', 'shar', 'ctc'], ['bank', 'baht', 'cent', 'specul', 'defend'], ['dollar', 'rupee', 'bank', 'deal', 'premia'], ['portug', 'drain', 'bank', 'rate', 'fix'], ['daley', 'clinton', 'commerc', 'room', 'announc'], ['rupee', 'rbi', 'bank', 'percent', 'dollar'], ['target', 'inflat', 'bank', 'israel', 'year'], ['play', 'world', 'cup', 'year', 'game'], ['beti', 'real', 'defend', 'madrid', 'game'], ['premy', 'farnel', 'profit', 'result', 'busi'], ['polish', 'invest', 'billion', 'bid', 'zloty'], ['pric', 'ringgit', 'clos', 'kg', 'low'], ['leagu', 'corp', 'dodg', 'basebal', 'new'], ['pct', 'lev', 'issu', 'bid', 'percent'], ['volkswagen', 'trad', 'percent', 'shar', 'deliv'], ['pension', 'menem', 'issu', 'argentin', 'bond'], ['fix', 'zloty', 'nbp', 'mark', 'percent'], ['shar', 'henderson', 'din', 'vodafon', 'stock'], ['jospin', 'franc', 'euro', 'european', 'stabl'], ['dollar', 'end', 'kiwi', 'sell', 'open'], ['pric', 'market', 'week', 'coffee', 'brem'], ['pound', 'day', 'million', 'bill', 'worth'], ['project', 'billion', 'fisc', 'budget', 'year'], ['pdt', 'cell', 'snet2', 'canc', 'drug'], ['day', 'telkom', 'london', 'clos', 'telekomunikas'], ['dollar', 'decemb', 'mark', 'trad', 'yen'], ['virgin', 'file', 'offer', 'facil', 'develop'], ['issu', 'billion', 'mark', 'bundesbank', 'bobl'], ['kenned', 'glob', 'offic', 'verroch', 'girl'], ['bse', 'market', 'shar', 'correct', 'stock'], ['million', 'gos', 'bond', 'qualif', 'issu'], ['bank', 'chin', 'foreign', 'busi', 'citibank'], ['ira', 'loyal', 'ireland', 'brit', 'sin'], ['eurodol', 'euroy', 'march', 'end', 'contract'], ['investcorp', 'compan', 'increas', 'million', 'profit'], ['rate', 'point', 'fts', 'result', 'deal'], ['socc', 'cup', 'result', 'engl', 'divid'], ['tax', 'rais', 'senat', 'cigaret', 'cent'], ['fiat', 'shar', 'govern', 'metalwork', 'union'], ['yen', 'dollar', 'expect', 'deal', 'market'], ['open', 'minist', 'erez', 'brok', 'lead'], ['mobil', 'motor', 'oil', 'formul', 'degree'], ['iraq', 'kurd', 'dinar', 'northern', 'countr'], ['invest', 'afric', 'south', 'stal', 'foreign'], ['bond', 'deal', 'drachm', 'ecu', 'month'], ['latvian', 'gas', 'ruhrg', 'shar', 'debt'], ['goldsmith', 'canc', 'sir', 'die', 'jame'], ['bank', 'term', 'lower', 'asia', 'east'], ['franc', 'tend', 'rate', 'french', 'bank'], ['open', 'talk', 'sky', 'airlin', 'alli'], ['swiss', 'snb', 'plan', 'gold', 'group'], ['rand', 'market', 'bond', 'trad', 'percent'], ['dollar', 'mark', 'deal', 'percent', 'low'], ['iraq', 'oil', 'sanct', 'pric', 'object'], ['amend', 'budget', 'balanc', 'pass', 'congress'], ['kabl', 'mobutu', 'kinshas', 'polit', 'govern'], ['rate', 'research', 'assign', 'nikk', 'seik'], ['carg', 'ton', 'hour', 'karach', 'port'], ['billion', 'peset', 'quart', 'profit', 'net'], ['par', 'carg', 'americ', 'rate', 'air'], ['iraq', 'chin', 'oil', 'field', 'barrel'], ['industr', 'drug', 'afric', 'south', 'lanc'], ['zion', 'aspen', 'shar', 'million', 'bancorp'], ['yen', 'prft', 'loss', 'forecast', 'bank'], ['percent', 'cost', 'hk', 'turnbull', 'carg'], ['bank', 'austr', 'vote', 'klim', 'chancellor'], ['july', 'bank', 'reut', 'kroon', 'cent'], ['polar', 'lloyd', 'line', 'market', 'syndic'], ['olymp', 'loan', 'compan', 'lawsuit', 'rate'], ['barmb', 'head', 'everton', 'point', 'late'], ['alban', 'german', 'juergen', 'world', 'cup'], ['stg', 'million', 'turn', 'allen', 'construc'], ['seed', 'world', 'singl', 'men', 'beck'], ['ton', 'wheat', 'tend', 'august', 'july'], ['deal', 'money', 'rupee', 'clos', 'bank'], ['new', 'bt', 'mci', 'merg', 'corp'], ['strik', 'doct', 'govern', 'stat', 'nur'], ['liby', 'raid', 'tripol', 'stat', 'air'], ['mar', 'week', 'end', 'administ', 'gross'], ['diseas', 'alzheim', 'brain', 'lesion', 'study'], ['percent', 'data', 'manag', 'market', 'fund'], ['beeb', 'sign', 'season', 'receiv', 'pack'], ['group', 'ord', 'profit', 'thyss', 'percent'], ['theatr', 'die', 'span', 'casar', 'franc'], ['cent', 'rub', 'deal', 'singapor', 'bridgeston'], ['indones', 'agree', 'croat', 'murdion', 'relat'], ['bank', 'sa', 'pekao', 'stat', 'million'], ['tobacc', 'carolin', 'north', 'produc', 'grow'], ['rate', 'stock', 'rais', 'feder', 'market'], ['mr', 'mata', 'secur', 'quot', 'govern'], ['al', 'sheikh', 'saad', 'kuwait', 'minist'], ['creek', 'school', 'bond', 'cher', 'trad'], ['philip', 'captain', 'saint', 'andr', 'play'], ['high', 'dollar', 'canad', 'yr', 'hit'], ['rate', 'market', 'israel', 'bank', 'percent'], ['stg', 'result', 'high', 'gmt', 'group'], ['open', 'stock', 'chilean', 'day', 'index'], ['antibod', 'design', 'trial', 'protein', 'pdl'], ['thrift', 'seidm', 'offic', 'econom', 'industr'], ['market', 'specul', 'accc', 'fel', 'bank'], ['shar', 'quart', 'end', 'unit', 'earn'], ['zloty', 'trad', 'stock', 'million', 'continu'], ['emmy', 'comed', 'actress', 'hunt', 'helen'], ['greensp', 'crown', 'danish', 'bours', 'trad'], ['eu', 'wheat', 'grain', 'export', 'ton'], ['sign', 'union', 'yeltsin', 'lukashenk', 'econom'], ['percent', 'davi', 'vote', 'jone', 'won'], ['yen', 'pric', 'kg', 'indium', 'metal'], ['gold', 'ton', 'kazakhst', 'year', 'output'], ['bank', 'foreign', 'loan', 'currenc', 'schem'], ['kidnap', 'yemen', 'releas', 'trib', 'million'], ['hryvn', 'million', 'dollar', 'edg', 'kief'], ['tam', 'aircraft', 'passeng', 'explos', 'brazil'], ['rate', 'mark', 'dollar', 'wednesday', 'gmt'], ['day', 'provinc', 'western', 'tea', 'open'], ['franc', 'dollar', 'lamassor', 'undervalu', 'european'], ['million', 'thomson', 'sgs', 'result', 'quart'], ['month', 'yield', 'bid', 'sri', 'lank'], ['million', 'bln', 'end', 'july', 'gdp'], ['canad', 'export', 'notion', 'rate', 'week'], ['load', 'rain', 'port', 'grain', 'santo'], ['propert', 'plmo', 'financ', 'baht', 'billion'], ['option', 'stock', 'monday', 'octob', 'open'], ['charg', 'profit', 'markk', 'million', 'net'], ['commit', 'court', 'damag', 'guerin', 'claim'], ['bank', 'deal', 'cent', 'fix', 'slow'], ['thyss', 'work', 'meet', 'bid', 'krup'], ['shill', 'dollar', 'market', 'rate', 'keny'], ['colomb', 'food', 'poison', 'outbreak', 'radio'], ['simeon', 'lose', 'appeal', 'madrid', 'ban'], ['natur', 'month', 'percent', 'wond', 'stor'], ['yerev', 'cup', 'armen', 'ararat', 'socc'], ['cholesterol', 'heart', 'bypass', 'percent', 'level'], ['indones', 'gold', 'nbi', 'fami', 'body'], ['kiwi', 'trad', 'open', 'rang', 'back'], ['bank', 'percent', 'high', 'rate', 'interest'], ['rupee', 'fall', 'dollar', 'clos', 'take'], ['roman', 'clinton', 'nato', 'presid', 'buchar'], ['alcohol', 'fami', 'meet', 'kenned', 'kennedy'], ['ton', 'adp', 'pari', 'york', 'august'], ['afric', 'money', 'billion', 'rand', 'south'], ['vietnam', 'work', 'labor', 'chen', 'abus'], ['sery', 'atlant', 'miam', 'confer', 'sunday'], ['csi', 'billion', 'off', 'stat', 'steel'], ['japan', 'taiw', 'import', 'orang', 'wto'], ['bank', 'rate', 'peso', 'cent', 'fall'], ['develop', 'javabean', 'platform', 'specif', 'java'], ['run', 'inn', 'win', 'hit', 'game'], ['rate', 'cent', 'bank', 'percent', 'borrow'], ['bankoa', 'off', 'cnmv', 'count', 'credit'], ['gold', 'platin', 'deal', 'fix', 'silf']]\n"
     ]
    }
   ],
   "source": [
    "TOP = 5\n",
    "words = set() # every word in the doc\n",
    "top_words = set() # a set of TOP # words from each article\n",
    "features = [] # array of array of top word \n",
    "for i in range (X.shape[0]):\n",
    "    tally = dict()\n",
    "    # this for loop get all words and count their frequency of each article, \n",
    "    for word in X['article_words'][i].split(','):\n",
    "        words.add(word)\n",
    "        if word not in tally.keys():\n",
    "            tally[word] = 1\n",
    "        else:\n",
    "            tally[word] +=1\n",
    "    #print(tally)\n",
    "    sorted_tally = sorted(tally.items(), key=lambda kv: kv[1], reverse=True)\n",
    "    #print(sorted_tally[:TOP], y['topic'][i])\n",
    "    \n",
    "    # this loop puts top words to the list of features\n",
    "    loc_feat = []\n",
    "    for j in range(TOP):\n",
    "        top_words.add(sorted_tally[j][0])\n",
    "        loc_feat.append(sorted_tally[j][0])\n",
    "    features.append(loc_feat)    \n",
    "    \n",
    "print(len(words)) # 8112\n",
    "#print(words)\n",
    "print(len(top_words)) #1112\n",
    "#print(top_words) \n",
    "print(features)\n"
   ]
  },
  {
   "cell_type": "code",
   "execution_count": 52,
   "metadata": {},
   "outputs": [
    {
     "name": "stdout",
     "output_type": "stream",
     "text": [
      "{'cad': 0, 'severn': 1, 'amend': 2, 'lukashenk': 3, 'govern': 4, 'hoechst': 5, 'karach': 6, 'commit': 7, 'florid': 8, 'design': 9, 'lend': 10, 'adopt': 11, 'braun': 12, 'drug': 13, 'station': 14, 'index': 15, 'domest': 16, 'assign': 17, 'brit': 18, 'provid': 19, 'millfeed': 20, 'chang': 21, 'week': 22, 'monday': 23, 'network': 24, 'right': 25, 'chesterfield': 26, 'guin': 27, 'danish': 28, 'sale': 29, 'cigaret': 30, 'dodg': 31, 'result': 32, 'arc': 33, 'baht': 34, 'european': 35, 'egypt': 36, 'cbr': 37, 'riversid': 38, 'event': 39, 'time': 40, 'chancellor': 41, 'beij': 42, 'currenc': 43, 'mother': 44, 'buchar': 45, 'guild': 46, 'bid': 47, 'brok': 48, 'rushdie': 49, 'mulph': 50, 'industr': 51, 'announc': 52, 'contribut': 53, 'commonwealth': 54, 'bobl': 55, 'period': 56, 'islam': 57, 'eas': 58, 'arkans': 59, 'transpar': 60, 'target': 61, 'fix': 62, 'south': 63, 'britain': 64, 'lose': 65, 'basi': 66, 'bnr': 67, 'azharuddin': 68, 'schedul': 69, 'refer': 70, 'sa': 71, 'confer': 72, 'total': 73, 'eu': 74, 'mitsubish': 75, 'cfo': 76, 'law': 77, 'nur': 78, 'heart': 79, 'clon': 80, 'soot': 81, 'wern': 82, 'portug': 83, 'turnbull': 84, 'tdb': 85, 'dec': 86, 'nbp': 87, 'adjust': 88, 'line': 89, 'bushel': 90, 'martial': 91, 'parent': 92, 'borg': 93, 'net': 94, 'ira': 95, 'mobil': 96, 'operat': 97, 'amnest': 98, 'moody': 99, 'zealand': 100, 'farnel': 101, 'institut': 102, 'yerev': 103, 'henderson': 104, 'option': 105, 'chip': 106, 'dividend': 107, 'mich': 108, 'motlats': 109, 'fed': 110, 'csf': 111, 'mw': 112, 'campaign': 113, 'grain': 114, 'unchang': 115, 'mill': 116, 'hung': 117, 'volut': 118, 'storm': 119, 'london': 120, 'spot': 121, 'smok': 122, 'nymex': 123, 'kerb': 124, 'burm': 125, 'term': 126, 'finish': 127, 'date': 128, 'sin': 129, 'yeltsin': 130, 'rupee': 131, 'cattl': 132, 'ruet': 133, 'pension': 134, 'french': 135, 'lloyd': 136, 'futur': 137, 'cost': 138, 'war': 139, 'gener': 140, 'alli': 141, 'lehm': 142, 'complet': 143, 'brain': 144, 'wheat': 145, 'seidm': 146, 'apr': 147, 'northern': 148, 'kidnap': 149, 'sunday': 150, 'borrow': 151, 'field': 152, 'iran': 153, 'servic': 154, 'aug': 155, 'tosovsk': 156, 'troop': 157, 'raasuk': 158, 'plant': 159, 'fri': 160, 'hope': 161, 'avi': 162, 'knight': 163, 'widad': 164, 'elect': 165, 'fuel': 166, 'fujimor': 167, 'rais': 168, 'toky': 169, 'match': 170, 'balanc': 171, 'intermed': 172, 'profit': 173, 'vict': 174, 'san': 175, 'pdt': 176, 'edie': 177, 'everton': 178, 'erm': 179, 'session': 180, 'weather': 181, 'music': 182, 'call': 183, 'surplus': 184, 'feedlot': 185, 'social': 186, 'austr': 187, 'leu': 188, 'interest': 189, 'unit': 190, 'pay': 191, 'rice': 192, 'titl': 193, 'bt': 194, 'dollar': 195, 'tafi': 196, 'simeon': 197, 'atlant': 198, 'javabean': 199, 'metalwork': 200, 'acquir': 201, 'meet': 202, 'loyal': 203, 'paniliako': 204, 'german': 205, 'data': 206, 'chin': 207, 'raid': 208, 'sell': 209, 'strik': 210, 'cotton': 211, 'race': 212, 'larg': 213, 'ruhrg': 214, 'nbi': 215, 'army': 216, 'inflat': 217, 'indy': 218, 'swap': 219, 'madrid': 220, 'weapon': 221, 'flour': 222, 'markk': 223, 'august': 224, 'contract': 225, 'priz': 226, 'privat': 227, 'al': 228, 'damag': 229, 'harvest': 230, 'man': 231, 'issu': 232, 'rebel': 233, 'fight': 234, 'board': 235, 'worth': 236, 'a3': 237, 'enviroserv': 238, 'bypass': 239, 'file': 240, 'bellsouth': 241, 'pierc': 242, 'purchas': 243, 'activ': 244, 'india': 245, 'ctc': 246, 'buy': 247, 'heus': 248, 'accc': 249, 'radio': 250, 'loss': 251, 'girl': 252, 'poison': 253, 'back': 254, 'afric': 255, 'champ': 256, 'mugab': 257, 'allerg': 258, 'labor': 259, 'kangaroo': 260, 'limit': 261, 'job': 262, 'concern': 263, 'emmy': 264, 'trad': 265, 'atrix': 266, 'summit': 267, 'merg': 268, 'int': 269, 'wilm': 270, 'oct': 271, 'sis': 272, 'udin': 273, 'swiss': 274, 'stock': 275, 'janu': 276, 'world': 277, 'derby': 278, 'charg': 279, 'cholesterol': 280, 'styl': 281, 'debentur': 282, 'acf': 283, 'stat': 284, 'santo': 285, 'tend': 286, 'quint': 287, 'hous': 288, 'ba': 289, 'reject': 290, 'breck': 291, 'rumor': 292, 'matur': 293, 'golf': 294, 'england': 295, 'candid': 296, 'sumitom': 297, 'correct': 298, 'engin': 299, 'die': 300, 'nige': 301, 'menem': 302, 'riso': 303, 'lank': 304, 'banan': 305, 'leagu': 306, 'rang': 307, 'rbi': 308, 'compostel': 309, 'hole': 310, 'kennedy': 311, 'drill': 312, 'silf': 313, 'spons': 314, 'frankfurt': 315, 'bse': 316, 'java': 317, 'land': 318, 'stg': 319, 'exempt': 320, 'shaamit': 321, 'unaudit': 322, 'broad': 323, 'season': 324, 'host': 325, 'drain': 326, 'asia': 327, 'cnmv': 328, 'plan': 329, 'ireland': 330, 'nato': 331, 'villalobo': 332, 'formul': 333, 'set': 334, 'imf': 335, 'pcs': 336, 'assoc': 337, 'gos': 338, 'auction': 339, 'win': 340, 'film': 341, 'tam': 342, 'ecu': 343, 'fall': 344, 'debt': 345, 'reserv': 346, 'pari': 347, 'passeng': 348, 'chairm': 349, 'retir': 350, 'lawsuit': 351, 'scand': 352, 'york': 353, 'trib': 354, 'norway': 355, 'andr': 356, 'croat': 357, 'increas': 358, 'appeal': 359, 'approv': 360, 'today': 361, 'base': 362, 'unemploy': 363, 'sri': 364, 'c4': 365, 'erez': 366, 'eqo': 367, 'kroon': 368, 'interim': 369, 'clinton': 370, 'sourc': 371, 'rupiah': 372, 'kagaku': 373, 'radar': 374, 'capit': 375, 'boruss': 376, 'resign': 377, 'cover': 378, 'kenned': 379, 'treasur': 380, 'reform': 381, 'chilean': 382, 'memb': 383, 'robert': 384, 'sir': 385, 'poll': 386, 'wool': 387, 'exercis': 388, 'develop': 389, 'bundesbank': 390, 'resum': 391, 'vicenz': 392, 'diary': 393, 'baa': 394, 'rule': 395, 'monet': 396, 'greensp': 397, 'dell': 398, 'espy': 399, 'hold': 400, 'prix': 401, 'vote': 402, 'waigel': 403, 'sign': 404, 'budget': 405, 'lev': 406, 'object': 407, 'emu': 408, 'reich': 409, 'sgs': 410, 'elf': 411, 'low': 412, 'hamanak': 413, 'bill': 414, 'suppl': 415, 'hiv': 416, 'boliv': 417, 'thomson': 418, 'metal': 419, 'mln': 420, 'fiorentin': 421, 'art': 422, 'human': 423, 'forecast': 424, 'zoll': 425, 'marc': 426, 'forint': 427, 'ahlberg': 428, 'polar': 429, 'bund': 430, 'thu': 431, 'novemb': 432, 'undervalu': 433, 'yemen': 434, 'talk': 435, 'air': 436, 'beeb': 437, 'regist': 438, 'invest': 439, 'retail': 440, 'percent': 441, 'mobutu': 442, 'machin': 443, 'captain': 444, 'cocoa': 445, 'steel': 446, 'year': 447, 'dkb': 448, 'women': 449, 'intern': 450, 'level': 451, 'fts': 452, 'daley': 453, 'dudakov': 454, 'volkswagen': 455, 'won': 456, 'ag': 457, 'awdry': 458, 'union': 459, 'patient': 460, 'kohl': 461, 'indict': 462, 'premia': 463, 'specif': 464, 'kief': 465, 'shar': 466, 'corp': 467, 'turn': 468, 'netherland': 469, 'diagnost': 470, 'pekao': 471, 'orang': 472, 'met': 473, 'norweg': 474, 'symbol': 475, 'aspen': 476, 'tescorp': 477, 'stockholm': 478, 'faction': 479, 'mar': 480, 'tobacc': 481, 'pga': 482, 'growth': 483, 'thyss': 484, 'uk': 485, 'alcohol': 486, 'minist': 487, 'kg': 488, 'hunt': 489, 'rtg': 490, 'foreign': 491, 'cmag': 492, 'challeng': 493, 'beti': 494, 'crown': 495, 'nikk': 496, 'offer': 497, 'degree': 498, 'serv': 499, 'convertibl': 500, 'schem': 501, 'budap': 502, 'lanc': 503, 'decemb': 504, 'goedert': 505, 'import': 506, 'vartek': 507, 'engl': 508, 'protest': 509, 'goldsmith': 510, 'feder': 511, 'afghanist': 512, 'north': 513, 'pound': 514, 'calcul': 515, 'russia': 516, 'barrel': 517, 'lpg': 518, 'easy': 519, 'mci': 520, 'stead': 521, 'sery': 522, 'fond': 523, 'magazin': 524, 'barcelon': 525, 'alzheim': 526, 'zagreb': 527, 'chart': 528, 'mark': 529, 'court': 530, 'eps': 531, 'miguel': 532, 'amount': 533, 'germ': 534, 'armen': 535, 'pharaoh': 536, 'liber': 537, 'real': 538, 'game': 539, 'canc': 540, 'million': 541, 'salar': 542, 'raja': 543, 'end': 544, 'ioniko': 545, 'award': 546, 'brown': 547, 'dutch': 548, 'ont': 549, 'phon': 550, 'lower': 551, 'verroch': 552, 'lesion': 553, 'receiv': 554, 'aver': 555, 'revers': 556, 'room': 557, 'philippin': 558, 'pack': 559, 'medic': 560, 'austral': 561, 'harradin': 562, 'din': 563, 'telekomunikas': 564, 'aircraft': 565, 'broker': 566, 'schill': 567, 'kong': 568, 'reut': 569, 'valmet': 570, 'kabul': 571, 'agree': 572, 'miam': 573, 'pacif': 574, 'immigr': 575, 'minut': 576, 'iraq': 577, 'tripol': 578, 'cricket': 579, 'illeg': 580, 'mr': 581, 'exclud': 582, 'municip': 583, 'jan': 584, 'clos': 585, 'olymp': 586, 'stal': 587, 'mladost': 588, 'graf': 589, 'flight': 590, 'money': 591, 'helen': 592, 'singl': 593, 'athinaiko': 594, 'pe220': 595, 'qualif': 596, 'dmp': 597, 'csi': 598, 'turnov': 599, 'payment': 600, 'najibullah': 601, 'comput': 602, 'spin': 603, 'tudjm': 604, 'ukrain': 605, 'ranariddh': 606, 'malon': 607, 'comed': 608, 'prem': 609, 'gas': 610, 'nkoss': 611, 'repo': 612, 'peso': 613, 'franc': 614, 'satel': 615, 'strong': 616, 'ago': 617, 'plmo': 618, 'italy': 619, 'agent': 620, 'wednesday': 621, 'grow': 622, 'siber': 623, 'sakai': 624, 'fourth': 625, 'liverpool': 626, 'hugoton': 627, 'test': 628, 'study': 629, 'cell': 630, 'malbak': 631, 'pass': 632, 'fifa': 633, 'june': 634, 'fisc': 635, 'july': 636, 'prim': 637, 'billion': 638, 'sanritsu': 639, 'virgin': 640, 'patriot': 641, 'sulz': 642, 'vodafon': 643, 'euroy': 644, 'aetn': 645, 'span': 646, 'iii': 647, 'chen': 648, 'taleb': 649, 'christoph': 650, 'inc': 651, 'love': 652, 'countr': 653, 'head': 654, 'tomb': 655, 'kali': 656, 'krajicek': 657, 'joint': 658, 'month': 659, 'pibor': 660, 'telstr': 661, 'detroit': 662, 'gross': 663, 'roethlisberg': 664, 'research': 665, 'arsen': 666, 'report': 667, 'east': 668, 'cultur': 669, 'ventur': 670, 'belgian': 671, 'food': 672, 'trent': 673, 'pdl': 674, 'coupon': 675, 'postpon': 676, 'billiton': 677, 'gujr': 678, 'socc': 679, 'aerospatial': 680, 'telecom': 681, 'pig': 682, 'exchang': 683, 'loan': 684, 'friday': 685, 'group': 686, 'gold': 687, 'cup': 688, 'europ': 689, 'scor': 690, 'hit': 691, 'brent': 692, 'bloch': 693, 'pape': 694, 'bell': 695, 'rub': 696, 'dax': 697, 'israel': 698, 'yr': 699, 'crash': 700, 'sky': 701, 'carolin': 702, 'child': 703, 'threat': 704, 'casar': 705, 'szumsk': 706, 'wi': 707, 'allen': 708, 'divid': 709, 'held': 710, 'niger': 711, 'sonitech': 712, 'basebal': 713, 'western': 714, 'pct': 715, 'accid': 716, 'export': 717, 'marin': 718, 'medicar': 719, 'de': 720, 'stor': 721, 'indium': 722, 'late': 723, 'taiw': 724, 'ioc': 725, 'short': 726, 'klim': 727, 'offic': 728, 'roman': 729, 'anal': 730, 'brem': 731, 'ruokatal': 732, 'fire': 733, 'trial': 734, 'execut': 735, 'hk': 736, 'brook': 737, 'iws': 738, 'philip': 739, 'ecuador': 740, 'platform': 741, 'problem': 742, 'releas': 743, 'emerg': 744, 'thai': 745, 'jet': 746, 'kazakhst': 747, 'body': 748, 'thrift': 749, 'ticket': 750, 'ton': 751, 'stabl': 752, 'creek': 753, 'pfennig': 754, 'inn': 755, 'mexic': 756, 'wood': 757, 'revenu': 758, 'repeat': 759, 'milit': 760, 'spain': 761, 'bankoa': 762, 'pigment': 763, 'bueno': 764, 'korea': 765, 'turism': 766, 'latvian': 767, 'californ': 768, 'philadelph': 769, 'econom': 770, 'drachm': 771, 'reai': 772, 'rally': 773, 'decid': 774, 'administ': 775, 'koram': 776, 'off': 777, 'ship': 778, 'guam': 779, 'mata': 780, 'helissio': 781, 'alban': 782, 'bozhkov': 783, 'compan': 784, 'heavy': 785, 'load': 786, 'liby': 787, 'typhoon': 788, 'suic': 789, 'peopl': 790, 'mth': 791, 'payrol': 792, 'hospit': 793, 'khm': 794, 'coffee': 795, 'hryvn': 796, 'club': 797, 'thom': 798, 'hong': 799, 'blu': 800, 'beat': 801, 'kinshas': 802, 'levi': 803, 'move': 804, 'argentin': 805, 'barmb': 806, 'men': 807, 'expect': 808, 'lexington': 809, 'mo': 810, 'rate': 811, 'agricultur': 812, 'envi': 813, 'domin': 814, 'stak': 815, 'sound': 816, 'baby': 817, 'airlin': 818, 'own': 819, 'ringgit': 820, 'defend': 821, 'secur': 822, 'brug': 823, 'farm': 824, 'milan': 825, 'graham': 826, 'petr': 827, 'sieb': 828, 'settl': 829, 'wto': 830, 'singapor': 831, 'bours': 832, 'nikkei': 833, 'outag': 834, 'manag': 835, 'fotolab': 836, 'cnb': 837, 'stockport': 838, 'abus': 839, 'city': 840, 'glob': 841, 'outbreak': 842, 'malar': 843, 'william': 844, 'add': 845, 'bebet': 846, 'credit': 847, 'confid': 848, 'fund': 849, 'outflow': 850, 'senat': 851, 'jord': 852, 'weak': 853, 'continu': 854, 'special': 855, 'eurodol': 856, 'produc': 857, 'cut': 858, 'plantat': 859, 'kiwi': 860, 'mon': 861, 'coca': 862, 'roubl': 863, 'lewi': 864, 'toyot': 865, 'tax': 866, 'perform': 867, 'firm': 868, 'deficit': 869, 'cent': 870, 'yield': 871, 'uzbekist': 872, 'open': 873, 'jone': 874, 'beck': 875, 'bridgeston': 876, 'doct': 877, 'play': 878, 'long': 879, 'moscow': 880, 'market': 881, 'goal': 882, 'float': 883, 'coal': 884, 'nime': 885, 'corpor': 886, 'system': 887, 'pip': 888, 'seik': 889, 'cpi': 890, 'rain': 891, 'gdi': 892, 'april': 893, 'telkom': 894, 'council': 895, 'peset': 896, 'cbot': 897, 'polic': 898, 'hour': 899, 'ofk': 900, 'juergen': 901, 'prft': 902, 'presid': 903, 'quot': 904, 'cia': 905, 'osak': 906, 'kesk': 907, 'slow': 908, 'shill': 909, 'mine': 910, 'barney': 911, 'citibank': 912, 'octob': 913, 'guerin': 914, 'work': 915, 'maastricht': 916, 'edg': 917, 'count': 918, 'tv': 919, 'polit': 920, 'polish': 921, 'excess': 922, 'par': 923, 'platin': 924, 'photofin': 925, 'ipe': 926, 'colomb': 927, 'fami': 928, 'school': 929, 'jospin': 930, 'clark': 931, 'quart': 932, 'rubin': 933, 'swed': 934, 'blak': 935, 'busi': 936, 'vehicl': 937, 'commerc': 938, 'syndic': 939, 'kabl': 940, 'day': 941, 'antibod': 942, 'potash': 943, 'fel': 944, 'king': 945, 'carg': 946, 'snet2': 947, 'cola': 948, 'microsoft': 949, 'dube': 950, 'case': 951, 'oklahom': 952, 'claim': 953, 'veter': 954, 'launch': 955, 'congress': 956, 'new': 957, 'round': 958, 'band': 959, 'canad': 960, 'finland': 961, 'eurofight': 962, 'bln': 963, 'explos': 964, 'facil': 965, 'sanct': 966, 'shell': 967, 'techn': 968, 'port': 969, 'provinc': 970, 'st': 971, 'process': 972, 'seed': 973, 'custom': 974, 'protein': 975, 'natur': 976, 'output': 977, 'remain': 978, 'hysan': 979, 'kuwait': 980, 'stand': 981, 'landmin': 982, 'medvedev': 983, 'vit': 984, 'pric': 985, 'relat': 986, 'whit': 987, 'bank': 988, 'doubleday': 989, 'grand': 990, 'run': 991, 'ban': 992, 'zion': 993, 'lab': 994, 'johannesburg': 995, 'seat': 996, 'solut': 997, 'cher': 998, 'snb': 999, 'jame': 1000, 'zloty': 1001, 'rich': 1002, 'americ': 1003, 'unbundl': 1004, 'nomur': 1005, 'sheikh': 1006, 'euro': 1007, 'project': 1008, 'lead': 1009, 'liquid': 1010, 'enlarg': 1011, 'cong': 1012, 'includ': 1013, 'antiqu': 1014, 'diseas': 1015, 'fila': 1016, 'motor': 1017, 'kurd': 1018, 'saad': 1019, 'financ': 1020, 'rsc': 1021, 'tea': 1022, 'father': 1023, 'constitut': 1024, 'casablanc': 1025, 'keny': 1026, 'sake': 1027, 'eston': 1028, 'royal': 1029, 'actress': 1030, 'bond': 1031, 'timb': 1032, 'buducnost': 1033, 'indones': 1034, 'rise': 1035, 'bancorp': 1036, 'krup': 1037, 'davi': 1038, 'usa': 1039, 'mph': 1040, 'ord': 1041, 'mcnult': 1042, 'leas': 1043, 'fiat': 1044, 'take': 1045, 'kans': 1046, 'ten': 1047, 'muss': 1048, 'czech': 1049, 'train': 1050, 'dinar': 1051, 'show': 1052, 'earn': 1053, 'disarma': 1054, 'belg': 1055, 'bottl': 1056, 'half': 1057, 'independ': 1058, 'cambod': 1059, 'party': 1060, 'lira': 1061, 'gmt': 1062, 'radisy': 1063, 'investcorp': 1064, 'deal': 1065, 'premy': 1066, 'march': 1067, 'specul': 1068, 'merck': 1069, 'saint': 1070, 'sainsbur': 1071, 'yen': 1072, 'munich': 1073, 'notion': 1074, 'propert': 1075, 'blackburn': 1076, 'sharp': 1077, 'investig': 1078, 'pow': 1079, 'commun': 1080, 'list': 1081, 'gdp': 1082, 'vietnam': 1083, 'adp': 1084, 'wond': 1085, 'lufthans': 1086, 'rand': 1087, 'deliv': 1088, 'ararat': 1089, 'theatr': 1090, 'tangl': 1091, 'construc': 1092, 'west': 1093, 'murdion': 1094, 'cop': 1095, 'lamassor': 1096, 'vien': 1097, 'greec': 1098, 'arthui': 1099, 'point': 1100, 'act': 1101, 'sacch': 1102, 'brazil': 1103, 'japan': 1104, 'sebastianel': 1105, 'draw': 1106, 'pitch': 1107, 'fim': 1108, 'burn': 1109, 'high': 1110, 'oil': 1111}\n"
     ]
    }
   ],
   "source": [
    "index = dict()\n",
    "count = 0\n",
    "for word in top_words:\n",
    "    index[word] = count\n",
    "    count+=1\n",
    "print(index)"
   ]
  },
  {
   "cell_type": "code",
   "execution_count": null,
   "metadata": {},
   "outputs": [],
   "source": []
  },
  {
   "cell_type": "code",
   "execution_count": 71,
   "metadata": {},
   "outputs": [
    {
     "name": "stdout",
     "output_type": "stream",
     "text": [
      "     cad  severn  amend  lukashenk  govern  hoechst  karach  commit  florid  \\\n",
      "0  False   False  False      False   False     True   False   False   False   \n",
      "1  False   False  False      False   False    False   False   False   False   \n",
      "2  False   False  False      False   False    False   False   False   False   \n",
      "3  False   False  False      False   False    False   False   False   False   \n",
      "4  False   False  False      False   False    False   False    True   False   \n",
      "\n",
      "   design  ...  sacch  brazil  japan  sebastianel   draw  pitch    fim   burn  \\\n",
      "0   False  ...  False   False  False        False  False  False  False  False   \n",
      "1   False  ...  False   False  False        False  False  False  False  False   \n",
      "2   False  ...  False   False  False        False  False  False  False  False   \n",
      "3   False  ...  False   False  False        False  False  False  False  False   \n",
      "4   False  ...  False   False  False        False  False  False  False  False   \n",
      "\n",
      "    high    oil  \n",
      "0  False  False  \n",
      "1  False  False  \n",
      "2  False  False  \n",
      "3  False  False  \n",
      "4  False  False  \n",
      "\n",
      "[5 rows x 1112 columns]\n"
     ]
    },
    {
     "ename": "TypeError",
     "evalue": "write() argument must be str, not DataFrame",
     "output_type": "error",
     "traceback": [
      "\u001b[1;31m---------------------------------------------------------------------------\u001b[0m",
      "\u001b[1;31mTypeError\u001b[0m                                 Traceback (most recent call last)",
      "\u001b[1;32m<ipython-input-71-dc34a0edbfa2>\u001b[0m in \u001b[0;36m<module>\u001b[1;34m\u001b[0m\n\u001b[0;32m      8\u001b[0m \u001b[0mprint\u001b[0m\u001b[1;33m(\u001b[0m\u001b[0mdf_cleaned\u001b[0m\u001b[1;33m.\u001b[0m\u001b[0mhead\u001b[0m\u001b[1;33m(\u001b[0m\u001b[1;33m)\u001b[0m\u001b[1;33m)\u001b[0m\u001b[1;33m\u001b[0m\u001b[1;33m\u001b[0m\u001b[0m\n\u001b[0;32m      9\u001b[0m \u001b[0mf\u001b[0m \u001b[1;33m=\u001b[0m \u001b[0mopen\u001b[0m\u001b[1;33m(\u001b[0m\u001b[1;34m\"tmp.txt\"\u001b[0m\u001b[1;33m,\u001b[0m \u001b[1;34m\"w\"\u001b[0m\u001b[1;33m)\u001b[0m\u001b[1;33m\u001b[0m\u001b[1;33m\u001b[0m\u001b[0m\n\u001b[1;32m---> 10\u001b[1;33m \u001b[0mf\u001b[0m\u001b[1;33m.\u001b[0m\u001b[0mwrite\u001b[0m\u001b[1;33m(\u001b[0m\u001b[0mdf_cleaned\u001b[0m\u001b[1;33m.\u001b[0m\u001b[0mhead\u001b[0m\u001b[1;33m(\u001b[0m\u001b[1;36m1\u001b[0m\u001b[1;33m)\u001b[0m\u001b[1;33m)\u001b[0m \u001b[1;31m# write to file to validate output\u001b[0m\u001b[1;33m\u001b[0m\u001b[1;33m\u001b[0m\u001b[0m\n\u001b[0m\u001b[0;32m     11\u001b[0m \u001b[0mf\u001b[0m\u001b[1;33m.\u001b[0m\u001b[0mclose\u001b[0m\u001b[1;33m(\u001b[0m\u001b[1;33m)\u001b[0m\u001b[1;33m\u001b[0m\u001b[1;33m\u001b[0m\u001b[0m\n",
      "\u001b[1;31mTypeError\u001b[0m: write() argument must be str, not DataFrame"
     ]
    }
   ],
   "source": [
    "bool_features = []\n",
    "for i in range (len(features)):\n",
    "    bool_f = [False] * len(top_words)\n",
    "    for t in range (TOP):\n",
    "        bool_f[index[features[i][t]]] = True\n",
    "    bool_features.append(tuple(bool_f))\n",
    "df_cleaned = pd.DataFrame(bool_features, columns = list(top_words))\n",
    "print(df_cleaned.head())\n",
    "df_cleaned.head().to_csv('tmp.csv') # write to file to validate output\n"
   ]
  },
  {
   "cell_type": "code",
   "execution_count": null,
   "metadata": {},
   "outputs": [],
   "source": []
  }
 ],
 "metadata": {
  "kernelspec": {
   "display_name": "Python 3",
   "language": "python",
   "name": "python3"
  },
  "language_info": {
   "codemirror_mode": {
    "name": "ipython",
    "version": 3
   },
   "file_extension": ".py",
   "mimetype": "text/x-python",
   "name": "python",
   "nbconvert_exporter": "python",
   "pygments_lexer": "ipython3",
   "version": "3.7.4"
  }
 },
 "nbformat": 4,
 "nbformat_minor": 2
}
