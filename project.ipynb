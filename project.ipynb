{
 "cells": [
  {
   "cell_type": "code",
   "execution_count": 1,
   "metadata": {},
   "outputs": [
    {
     "name": "stdout",
     "output_type": "stream",
     "text": [
      "<class 'pandas.core.frame.DataFrame'>\n",
      "RangeIndex: 9500 entries, 0 to 9499\n",
      "Data columns (total 3 columns):\n",
      "article_number    9500 non-null int64\n",
      "article_words     9500 non-null object\n",
      "topic             9500 non-null object\n",
      "dtypes: int64(1), object(2)\n",
      "memory usage: 222.8+ KB\n"
     ]
    }
   ],
   "source": [
    "import numpy as np\n",
    "import pandas as pd\n",
    "from sklearn import preprocessing\n",
    "\n",
    "df = pd.read_csv('training.csv') # use test which is smaller for development\n",
    "df.info()"
   ]
  },
  {
   "cell_type": "code",
   "execution_count": 2,
   "metadata": {
    "scrolled": true
   },
   "outputs": [
    {
     "data": {
      "text/html": [
       "<div>\n",
       "<style scoped>\n",
       "    .dataframe tbody tr th:only-of-type {\n",
       "        vertical-align: middle;\n",
       "    }\n",
       "\n",
       "    .dataframe tbody tr th {\n",
       "        vertical-align: top;\n",
       "    }\n",
       "\n",
       "    .dataframe thead th {\n",
       "        text-align: right;\n",
       "    }\n",
       "</style>\n",
       "<table border=\"1\" class=\"dataframe\">\n",
       "  <thead>\n",
       "    <tr style=\"text-align: right;\">\n",
       "      <th></th>\n",
       "      <th>article_number</th>\n",
       "      <th>article_words</th>\n",
       "      <th>topic</th>\n",
       "    </tr>\n",
       "  </thead>\n",
       "  <tbody>\n",
       "    <tr>\n",
       "      <td>0</td>\n",
       "      <td>1</td>\n",
       "      <td>open,absent,cent,cent,cent,stock,inflow,rate,k...</td>\n",
       "      <td>FOREX MARKETS</td>\n",
       "    </tr>\n",
       "    <tr>\n",
       "      <td>1</td>\n",
       "      <td>2</td>\n",
       "      <td>morn,stead,end,end,day,day,day,patch,patch,pat...</td>\n",
       "      <td>MONEY MARKETS</td>\n",
       "    </tr>\n",
       "    <tr>\n",
       "      <td>2</td>\n",
       "      <td>3</td>\n",
       "      <td>socc,socc,world,world,recent,law,fifa,fifa,fif...</td>\n",
       "      <td>SPORTS</td>\n",
       "    </tr>\n",
       "    <tr>\n",
       "      <td>3</td>\n",
       "      <td>4</td>\n",
       "      <td>open,forint,forint,forint,forint,cent,cent,ste...</td>\n",
       "      <td>FOREX MARKETS</td>\n",
       "    </tr>\n",
       "    <tr>\n",
       "      <td>4</td>\n",
       "      <td>5</td>\n",
       "      <td>morn,complet,weekend,minut,minut,minut,arrow,d...</td>\n",
       "      <td>IRRELEVANT</td>\n",
       "    </tr>\n",
       "  </tbody>\n",
       "</table>\n",
       "</div>"
      ],
      "text/plain": [
       "   article_number                                      article_words  \\\n",
       "0               1  open,absent,cent,cent,cent,stock,inflow,rate,k...   \n",
       "1               2  morn,stead,end,end,day,day,day,patch,patch,pat...   \n",
       "2               3  socc,socc,world,world,recent,law,fifa,fifa,fif...   \n",
       "3               4  open,forint,forint,forint,forint,cent,cent,ste...   \n",
       "4               5  morn,complet,weekend,minut,minut,minut,arrow,d...   \n",
       "\n",
       "           topic  \n",
       "0  FOREX MARKETS  \n",
       "1  MONEY MARKETS  \n",
       "2         SPORTS  \n",
       "3  FOREX MARKETS  \n",
       "4     IRRELEVANT  "
      ]
     },
     "execution_count": 2,
     "metadata": {},
     "output_type": "execute_result"
    }
   ],
   "source": [
    "df.head()"
   ]
  },
  {
   "cell_type": "code",
   "execution_count": 3,
   "metadata": {},
   "outputs": [],
   "source": [
    "input_cols = ['article_words']\n",
    "out_cols = ['topic']\n",
    "X = df[input_cols]\n",
    "y = df[out_cols]\n",
    "split = int(X.shape[0] * 0.9)\n",
    "#X_t = X[:split]\n",
    "#y_t = y[:split]\n",
    "#X_v = X[split:]\n",
    "#y_v = y[split:]"
   ]
  },
  {
   "cell_type": "code",
   "execution_count": 4,
   "metadata": {},
   "outputs": [
    {
     "name": "stdout",
     "output_type": "stream",
     "text": [
      "35823\n",
      "6486\n"
     ]
    }
   ],
   "source": [
    "TOP = 5\n",
    "words = set() # every word in the doc\n",
    "top_words = set() # a set of TOP # words from each article\n",
    "features = [] # array of array of top word \n",
    "for i in range (X.shape[0]):\n",
    "    tally = dict()\n",
    "    # this for loop get all words and count their frequency of each article, \n",
    "    for word in X['article_words'][i].split(','):\n",
    "        words.add(word)\n",
    "        if word not in tally.keys():\n",
    "            tally[word] = 1\n",
    "        else:\n",
    "            tally[word] +=1\n",
    "    #print(tally)\n",
    "    sorted_tally = sorted(tally.items(), key=lambda kv: kv[1], reverse=True)\n",
    "    #print(sorted_tally[:TOP], y['topic'][i])\n",
    "    \n",
    "    # this loop puts top words to the list of features\n",
    "    loc_feat = []\n",
    "    for j in range(TOP):\n",
    "        top_words.add(sorted_tally[j][0])\n",
    "        loc_feat.append(sorted_tally[j][0])\n",
    "    features.append(loc_feat)    \n",
    "    \n",
    "print(len(words))\n",
    "#print(words)\n",
    "print(len(top_words))\n",
    "#print(top_words) \n",
    "#print(features)\n"
   ]
  },
  {
   "cell_type": "code",
   "execution_count": 5,
   "metadata": {},
   "outputs": [],
   "source": [
    "index = dict()\n",
    "count = 0\n",
    "for word in top_words:\n",
    "    index[word] = count\n",
    "    count+=1\n",
    "# print(index)"
   ]
  },
  {
   "cell_type": "code",
   "execution_count": null,
   "metadata": {},
   "outputs": [],
   "source": []
  },
  {
   "cell_type": "code",
   "execution_count": 6,
   "metadata": {},
   "outputs": [],
   "source": [
    "bool_features = []\n",
    "for i in range (len(features)):\n",
    "    bool_f = [0] * len(top_words)\n",
    "    for t in range (TOP):\n",
    "        bool_f[index[features[i][t]]] = 1\n",
    "    bool_features.append(tuple(bool_f))\n",
    "df_cleaned = pd.DataFrame(bool_features, columns = list(top_words))\n",
    "# print(df_cleaned.head())\n",
    "# df_cleaned.head().to_csv('tmp.csv') # write to file to validate output\n"
   ]
  },
  {
   "cell_type": "code",
   "execution_count": 8,
   "metadata": {},
   "outputs": [
    {
     "name": "stdout",
     "output_type": "stream",
     "text": [
      "3 0.6819013142615469\n",
      "op_min_samples_leaf = 3\n",
      "score = [0.6819013142615469]\n",
      "metrics = [(0.7272727272727273, 0.631578947368421, 0.676056338028169, None)]\n"
     ]
    }
   ],
   "source": [
    "from sklearn.preprocessing import OneHotEncoder\n",
    "from sklearn.tree import DecisionTreeClassifier\n",
    "from sklearn.metrics import roc_auc_score\n",
    "from sklearn.metrics import precision_recall_fscore_support\n",
    "\n",
    "enc = OneHotEncoder(handle_unknown='ignore')\n",
    "enc.fit(y)\n",
    "y_trans = enc.transform(y).toarray()\n",
    "\n",
    "START = 3\n",
    "END = 4 \n",
    "def optimal_min_leaf(tx, ty, true_y, pred_xarg):\n",
    "    scores = []\n",
    "    metrics = []\n",
    "    for k in range(START, END):\n",
    "        dtc = DecisionTreeClassifier(min_samples_leaf=k)\n",
    "        dtc.fit(tx, ty)\n",
    "        y_pred = dtc.predict(pred_xarg)\n",
    "        score = roc_auc_score(true_y,y_pred)\n",
    "        metric = precision_recall_fscore_support(true_y,y_pred, average='micro')\n",
    "        scores.append(score)\n",
    "        metrics.append(metric)\n",
    "        print(dtc.min_samples_leaf,score)\n",
    "    return START+np.argmax(scores), scores, metrics\n",
    "\n",
    "\n",
    "op_min_leaf, test_scores, metrics = optimal_min_leaf(df_cleaned[:split], y_trans[:split], y_trans[split:],df_cleaned[split:])\n",
    "print('op_min_samples_leaf =', op_min_leaf)\n",
    "print('score =', test_scores)\n",
    "print('metrics =', metrics)"
   ]
  },
  {
   "cell_type": "code",
   "execution_count": null,
   "metadata": {},
   "outputs": [],
   "source": []
  }
 ],
 "metadata": {
  "kernelspec": {
   "display_name": "Python 3",
   "language": "python",
   "name": "python3"
  },
  "language_info": {
   "codemirror_mode": {
    "name": "ipython",
    "version": 3
   },
   "file_extension": ".py",
   "mimetype": "text/x-python",
   "name": "python",
   "nbconvert_exporter": "python",
   "pygments_lexer": "ipython3",
   "version": "3.7.4"
  }
 },
 "nbformat": 4,
 "nbformat_minor": 2
}
