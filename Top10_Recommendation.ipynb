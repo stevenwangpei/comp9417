{
 "cells": [
  {
   "cell_type": "code",
   "execution_count": 1,
   "metadata": {},
   "outputs": [],
   "source": [
    "# top ten recommendation function for a given model and test cases\n",
    "\n",
    "import operator\n",
    "\n",
    "def TopTen (Model, X_test, y_test):\n",
    "    predict_y = Model.predict(X_test)    #get the prediction\n",
    "    proba_y = Model.predict_proba(X_test)  #get the probablity of each class\n",
    "    recommendation = dict()\n",
    "    \n",
    "    for c in Model.classes_:\n",
    "        recommendation[c] = dict()\n",
    "        \n",
    "    for i in range(len(proba_y)):\n",
    "        pred = predict_y[i]         # get the predict for this sample\n",
    "        proba = np.max(proba_y[i])  # get how much probability for this prediction\n",
    "        recommendation[pred][i + 9501] = proba  #save article number and probability into dict\n",
    "\n",
    "    for key in recommendation:\n",
    "        d = recommendation[key]\n",
    "        sorted_d = dict(sorted(d.items(), key=operator.itemgetter(1),reverse=True))\n",
    "        if (key == \"IRRELEVANT\"):   # skip irrelevant class\n",
    "            continue\n",
    "        print(key)\n",
    "        count = 0\n",
    "        for k in sorted_d:\n",
    "            print(\"[\" + str(count+1)+ \"]  \" + str(k) + \"  \" + str(sorted_d[k]))\n",
    "            count += 1\n",
    "            if count == 10:         # 10 articles been recommended\n",
    "                break"
   ]
  },
  {
   "cell_type": "code",
   "execution_count": null,
   "metadata": {},
   "outputs": [],
   "source": []
  }
 ],
 "metadata": {
  "kernelspec": {
   "display_name": "Python 3",
   "language": "python",
   "name": "python3"
  },
  "language_info": {
   "codemirror_mode": {
    "name": "ipython",
    "version": 3
   },
   "file_extension": ".py",
   "mimetype": "text/x-python",
   "name": "python",
   "nbconvert_exporter": "python",
   "pygments_lexer": "ipython3",
   "version": "3.7.4"
  }
 },
 "nbformat": 4,
 "nbformat_minor": 2
}
