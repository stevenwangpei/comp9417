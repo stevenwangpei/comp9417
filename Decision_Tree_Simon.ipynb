{
 "cells": [
  {
   "cell_type": "code",
   "execution_count": 1,
   "metadata": {},
   "outputs": [],
   "source": [
    "# Load libraries\n",
    "import numpy as np\n",
    "import pandas as pd\n",
    "from sklearn.naive_bayes import MultinomialNB, BernoulliNB\n",
    "from sklearn.tree import DecisionTreeClassifier\n",
    "from sklearn.feature_extraction.text import CountVectorizer, TfidfVectorizer\n",
    "from sklearn.metrics import accuracy_score, precision_score, recall_score, f1_score, classification_report,  roc_auc_score\n",
    "from sklearn.model_selection import KFold, cross_val_score, train_test_split\n",
    "import collections"
   ]
  },
  {
   "cell_type": "code",
   "execution_count": 2,
   "metadata": {},
   "outputs": [],
   "source": [
    "# Import text data\n",
    "raw_training = pd.read_csv(\"training.csv\")\n",
    "raw_testing = pd.read_csv(\"test.csv\")\n",
    "\n",
    "# Create bag of words\n",
    "count = CountVectorizer()\n",
    "bag_of_words = count.fit_transform(raw_training[\"article_words\"])\n",
    "\n",
    "# Create feature matrix\n",
    "X = bag_of_words\n",
    "\n",
    "# Create bag of words\n",
    "y = raw_training[\"topic\"]\n",
    "\n",
    "#######################Resampling Dataset#######################\n",
    "\n",
    "\n",
    "# Reducing the effect imbalnced by deleting some irrelevant class\n",
    "# \"Irrelevant\" classe has 4734 samples in the training data, try to reduce it into 2000\n",
    "irrelevant = raw_training[raw_training[\"topic\"] == \"IRRELEVANT\"]\n",
    "remove_n = 2734\n",
    "drop_indices = np.random.choice(irrelevant.index, remove_n, replace=False)\n",
    "irrelevant = irrelevant.drop(drop_indices)\n",
    "\n",
    "reduce_training =  pd.concat([raw_training[raw_training[\"topic\"] != \"IRRELEVANT\"], irrelevant],ignore_index=True)\n",
    "reduce_bag_of_words = count.fit_transform(reduce_training[\"article_words\"])\n",
    "R_X = reduce_bag_of_words\n",
    "R_y = reduce_training[\"topic\"]\n",
    "\n",
    "# Icreasing the minor classes\n",
    "# Increasing \n",
    "topic_class = raw_training[raw_training[\"topic\"] != \"IRRELEVANT\"]\n",
    "increase_training = pd.concat([topic_class, topic_class, topic_class, raw_training[raw_training[\"topic\"] == \"IRRELEVANT\"]], ignore_index=True)\n",
    "increase_bag_of_words = count.fit_transform(increase_training[\"article_words\"])\n",
    "I_X = increase_bag_of_words\n",
    "I_y = increase_training[\"topic\"]\n",
    "\n",
    "# Considering stop words\n",
    "count2 = CountVectorizer(stop_words='english')\n",
    "sw_bag_of_words = count.fit_transform(increase_training[\"article_words\"])\n",
    "s_X = sw_bag_of_words\n",
    "s_y = increase_training[\"topic\"]"
   ]
  },
  {
   "cell_type": "code",
   "execution_count": 15,
   "metadata": {},
   "outputs": [],
   "source": [
    "# Using specific model \"method\", return specifc score \"score\" by cross validation\n",
    "\n",
    "def Model_Score (X, y, method):\n",
    "    X_train, X_valid, y_train, y_valid = train_test_split(X, y, test_size=0.20, random_state=42)\n",
    "    clf = method\n",
    "    clf.fit(X_train, y_train)\n",
    "    y_predicted = clf.predict(X_valid)\n",
    "    accuracy = accuracy_score(y_valid, y_predicted)\n",
    "    precision = precision_score(y_valid, y_predicted, average = \"macro\")\n",
    "    recall = recall_score(y_valid, y_predicted, average = \"macro\")\n",
    "    f1 = f1_score(y_valid, y_predicted, average = \"macro\")\n",
    "    \n",
    "    return accuracy, precision, recall, f1"
   ]
  },
  {
   "cell_type": "code",
   "execution_count": 16,
   "metadata": {},
   "outputs": [],
   "source": [
    "raw_accuracy, raw_precision, raw_recall, raw_f1 = Model_Score(X, y, DecisionTreeClassifier())\n",
    "\n",
    "# reduce irrelevant samples\n",
    "R_accuracy, R_precision, R_recall, R_f1 = Model_Score(R_X, R_y, DecisionTreeClassifier())\n",
    "\n",
    "# Icreasing the minor classes\n",
    "I_accuracy, I_precision, I_recall, I_f1 = Model_Score(I_X, I_y, DecisionTreeClassifier())\n",
    "\n",
    "# Try considering stop words\n",
    "s_accuracy, s_precision, s_recall, s_f1 = Model_Score(s_X, s_y, DecisionTreeClassifier())"
   ]
  },
  {
   "cell_type": "code",
   "execution_count": null,
   "metadata": {},
   "outputs": [],
   "source": [
    "X_train, X_valid, y_train, y_valid = train_test_split(s_X,s_y, test_size=0.20, random_state=42)\n",
    "clf = DecisionTreeClassifier()\n",
    "\n",
    "clf = clf.fit(X_train,y_train)\n",
    "\n",
    "y_predicted = clf.predict(X_valid)\n",
    "\n",
    "#print(\"Accuracy:\",accuracy_score(y_valid, y_predicted))\n",
    "#print(\"Precision:\",precision_score(y_valid, y_predicted, average = \"macro\"))\n",
    "#print(\"Recall:\",recall_score(y_valid, y_predicted, average = \"macro\"))\n",
    "#print(\"f1:\",f1_score(y_valid, y_predicted, average = \"macro\"))"
   ]
  },
  {
   "cell_type": "code",
   "execution_count": 17,
   "metadata": {},
   "outputs": [
    {
     "name": "stdout",
     "output_type": "stream",
     "text": [
      "====================================================================================\n",
      "Stop words,\n",
      "accuracy:  0.6873684210526316\n",
      "precision: 0.551549234607873\n",
      "recall:    0.4741841228128939\n",
      "f1:        0.5024722898748023\n",
      "====================================================================================\n",
      "Stop words,\n",
      "accuracy:  0.9088521145258734\n",
      "precision: 0.8858775280000011\n",
      "recall:    0.9457035831387229\n",
      "f1:        0.9123884822667834\n",
      "====================================================================================\n",
      "Stop words,\n",
      "accuracy:  0.9075387444181771\n",
      "precision: 0.8826604461879402\n",
      "recall:    0.9465426648465818\n",
      "f1:        0.9108393864401922\n",
      "====================================================================================\n",
      "Stop words,\n",
      "accuracy:  0.6410635155096012\n",
      "precision: 0.5087227465873748\n",
      "recall:    0.5046252003025178\n",
      "f1:        0.5032617862469646\n"
     ]
    }
   ],
   "source": [
    "print(\"====================================================================================\")\n",
    "\n",
    "print(\"Stop words,\\naccuracy:  \" + str(raw_accuracy) +\n",
    "     \"\\nprecision: \" + str(raw_precision) + \"\\nrecall:    \" + str(raw_recall) + \"\\nf1:        \" +\n",
    "     str(raw_f1))\n",
    "print(\"====================================================================================\")\n",
    "\n",
    "print(\"Irrelevant classes\\naccuracy:  \" + str(I_accuracy) +\n",
    "     \"\\nprecision: \" + str(I_precision) + \"\\nrecall:    \" + str(I_recall) + \"\\nf1:        \" +\n",
    "     str(I_f1))\n",
    "print(\"====================================================================================\")\n",
    "\n",
    "print(\"Decision Tree increasing minor classes:\\naccuracy:  \" + str(s_accuracy) +\n",
    "     \"\\nprecision: \" + str(s_precision) + \"\\nrecall:    \" + str(s_recall) + \"\\nf1:        \" +\n",
    "     str(s_f1))\n",
    "\n",
    "print(\"====================================================================================\")\n",
    "\n",
    "print(\"Decision Tree stop words\\naccuracy:  \" + str(R_accuracy) +\n",
    "     \"\\nprecision: \" + str(R_precision) + \"\\nrecall:    \" + str(R_recall) + \"\\nf1:        \" +\n",
    "     str(R_f1))"
   ]
  },
  {
   "cell_type": "code",
   "execution_count": null,
   "metadata": {},
   "outputs": [],
   "source": [
    "len(y_valid)"
   ]
  },
  {
   "cell_type": "code",
   "execution_count": null,
   "metadata": {},
   "outputs": [],
   "source": []
  }
 ],
 "metadata": {
  "kernelspec": {
   "display_name": "Python 3",
   "language": "python",
   "name": "python3"
  },
  "language_info": {
   "codemirror_mode": {
    "name": "ipython",
    "version": 3
   },
   "file_extension": ".py",
   "mimetype": "text/x-python",
   "name": "python",
   "nbconvert_exporter": "python",
   "pygments_lexer": "ipython3",
   "version": "3.7.4"
  }
 },
 "nbformat": 4,
 "nbformat_minor": 2
}
