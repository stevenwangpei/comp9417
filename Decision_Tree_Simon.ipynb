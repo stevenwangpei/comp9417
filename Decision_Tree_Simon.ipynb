{
 "cells": [
  {
   "cell_type": "code",
   "execution_count": 32,
   "metadata": {},
   "outputs": [],
   "source": [
    "# Load libraries\n",
    "import numpy as np\n",
    "import pandas as pd\n",
    "from sklearn.naive_bayes import MultinomialNB, BernoulliNB\n",
    "from sklearn.tree import DecisionTreeClassifier\n",
    "from sklearn.feature_extraction.text import CountVectorizer, TfidfVectorizer\n",
    "from sklearn.metrics import accuracy_score, precision_score, recall_score, f1_score, classification_report,  roc_auc_score\n",
    "from sklearn.model_selection import KFold, cross_val_score, train_test_split\n",
    "import collections"
   ]
  },
  {
   "cell_type": "code",
   "execution_count": 45,
   "metadata": {},
   "outputs": [],
   "source": [
    "# Import text data\n",
    "raw_training = pd.read_csv(\"training.csv\")\n",
    "raw_testing = pd.read_csv(\"test.csv\")\n",
    "\n",
    "# Create bag of words\n",
    "#count = CountVectorizer()\n",
    "#X_valid = count.fit_transform(raw_testing[\"article_words\"])\n",
    "\n",
    "# testing y\n",
    "y_valid = raw_testing[\"topic\"]\n",
    "\n",
    "# Create bag of words\n",
    "count = CountVectorizer()\n",
    "bag_of_words = count.fit_transform(raw_training[\"article_words\"])\n",
    "\n",
    "# Create feature matrix\n",
    "X = bag_of_words\n",
    "\n",
    "# Create bag of words\n",
    "y = raw_training[\"topic\"]\n",
    "\n",
    "#transform testing data\n",
    "X_valid = count.transform(raw_testing[\"article_words\"])\n",
    "\n",
    "#######################Resampling Dataset#######################\n",
    "\n",
    "\n",
    "# Reducing the effect imbalnced by deleting some irrelevant class\n",
    "# \"Irrelevant\" classe has 4734 samples in the training data, try to reduce it into 2000\n",
    "irrelevant = raw_training[raw_training[\"topic\"] == \"IRRELEVANT\"]\n",
    "remove_n = 2734\n",
    "drop_indices = np.random.choice(irrelevant.index, remove_n, replace=False)\n",
    "irrelevant = irrelevant.drop(drop_indices)\n",
    "\n",
    "reduce_training =  pd.concat([raw_training[raw_training[\"topic\"] != \"IRRELEVANT\"], irrelevant],ignore_index=True)\n",
    "reduce_bag_of_words = count.fit_transform(reduce_training[\"article_words\"])\n",
    "R_X = reduce_bag_of_words\n",
    "R_y = reduce_training[\"topic\"]\n",
    "#transform testing data\n",
    "R_X_valid = count.transform(reduce_training[\"topic\"])\n",
    "\n",
    "# Icreasing the minor classes\n",
    "# Increasing \n",
    "topic_class = raw_training[raw_training[\"topic\"] != \"IRRELEVANT\"]\n",
    "increase_training = pd.concat([topic_class, topic_class, topic_class, raw_training[raw_training[\"topic\"] == \"IRRELEVANT\"]], ignore_index=True)\n",
    "increase_bag_of_words = count.fit_transform(increase_training[\"article_words\"])\n",
    "I_X = increase_bag_of_words\n",
    "I_y = increase_training[\"topic\"]\n",
    "#transform testing data\n",
    "I_X_valid = count.transform(increase_training[\"topic\"])\n",
    "\n",
    "# Considering stop words\n",
    "count2 = CountVectorizer(stop_words='english')\n",
    "sw_bag_of_words = count.fit_transform(increase_training[\"article_words\"])\n",
    "s_X = sw_bag_of_words\n",
    "s_y = increase_training[\"topic\"]\n",
    "#transform testing data\n",
    "s_X_valid = count.transform(increase_training[\"topic\"])"
   ]
  },
  {
   "cell_type": "code",
   "execution_count": 36,
   "metadata": {},
   "outputs": [
    {
     "data": {
      "text/plain": [
       "<19032x35822 sparse matrix of type '<class 'numpy.int64'>'\n",
       "\twith 1542963 stored elements in Compressed Sparse Row format>"
      ]
     },
     "execution_count": 36,
     "metadata": {},
     "output_type": "execute_result"
    }
   ],
   "source": [
    "I_X"
   ]
  },
  {
   "cell_type": "code",
   "execution_count": 46,
   "metadata": {},
   "outputs": [],
   "source": [
    "# Using specific model \"method\", return specifc score \"score\" by cross validation\n",
    "\n",
    "def Model_Score (X, y, x_valid, method):\n",
    "   \n",
    "    clf = method\n",
    "    clf.fit(X, y)\n",
    "    \n",
    "    y_predicted = clf.predict(X_valid)\n",
    "    accuracy = accuracy_score(y_valid, y_predicted)\n",
    "    \n",
    "    precision = precision_score(y_valid, y_predicted, average = \"macro\")\n",
    "    recall = recall_score(y_valid, y_predicted, average = \"macro\")\n",
    "    f1 = f1_score(y_valid, y_predicted, average = \"macro\")\n",
    "    \n",
    "    return accuracy, precision, recall, f1"
   ]
  },
  {
   "cell_type": "code",
   "execution_count": 47,
   "metadata": {},
   "outputs": [
    {
     "ename": "ValueError",
     "evalue": "Number of features of the model must match the input. Model n_features is 29824 and input n_features is 35822 ",
     "output_type": "error",
     "traceback": [
      "\u001b[0;31m---------------------------------------------------------------------------\u001b[0m",
      "\u001b[0;31mValueError\u001b[0m                                Traceback (most recent call last)",
      "\u001b[0;32m<ipython-input-47-79dae208cdc7>\u001b[0m in \u001b[0;36m<module>\u001b[0;34m\u001b[0m\n\u001b[1;32m      2\u001b[0m \u001b[0;34m\u001b[0m\u001b[0m\n\u001b[1;32m      3\u001b[0m \u001b[0;31m# reduce irrelevant samples\u001b[0m\u001b[0;34m\u001b[0m\u001b[0;34m\u001b[0m\u001b[0;34m\u001b[0m\u001b[0m\n\u001b[0;32m----> 4\u001b[0;31m \u001b[0mR_accuracy\u001b[0m\u001b[0;34m,\u001b[0m \u001b[0mR_precision\u001b[0m\u001b[0;34m,\u001b[0m \u001b[0mR_recall\u001b[0m\u001b[0;34m,\u001b[0m \u001b[0mR_f1\u001b[0m \u001b[0;34m=\u001b[0m \u001b[0mModel_Score\u001b[0m\u001b[0;34m(\u001b[0m\u001b[0mR_X\u001b[0m\u001b[0;34m,\u001b[0m \u001b[0mR_y\u001b[0m\u001b[0;34m,\u001b[0m \u001b[0mR_X_valid\u001b[0m\u001b[0;34m,\u001b[0m \u001b[0mDecisionTreeClassifier\u001b[0m\u001b[0;34m(\u001b[0m\u001b[0;34m)\u001b[0m\u001b[0;34m)\u001b[0m\u001b[0;34m\u001b[0m\u001b[0;34m\u001b[0m\u001b[0m\n\u001b[0m\u001b[1;32m      5\u001b[0m \u001b[0;34m\u001b[0m\u001b[0m\n\u001b[1;32m      6\u001b[0m \u001b[0;31m# Icreasing the minor classes\u001b[0m\u001b[0;34m\u001b[0m\u001b[0;34m\u001b[0m\u001b[0;34m\u001b[0m\u001b[0m\n",
      "\u001b[0;32m<ipython-input-46-33746f0c132d>\u001b[0m in \u001b[0;36mModel_Score\u001b[0;34m(X, y, x_valid, method)\u001b[0m\n\u001b[1;32m      6\u001b[0m     \u001b[0mclf\u001b[0m\u001b[0;34m.\u001b[0m\u001b[0mfit\u001b[0m\u001b[0;34m(\u001b[0m\u001b[0mX\u001b[0m\u001b[0;34m,\u001b[0m \u001b[0my\u001b[0m\u001b[0;34m)\u001b[0m\u001b[0;34m\u001b[0m\u001b[0;34m\u001b[0m\u001b[0m\n\u001b[1;32m      7\u001b[0m \u001b[0;34m\u001b[0m\u001b[0m\n\u001b[0;32m----> 8\u001b[0;31m     \u001b[0my_predicted\u001b[0m \u001b[0;34m=\u001b[0m \u001b[0mclf\u001b[0m\u001b[0;34m.\u001b[0m\u001b[0mpredict\u001b[0m\u001b[0;34m(\u001b[0m\u001b[0mX_valid\u001b[0m\u001b[0;34m)\u001b[0m\u001b[0;34m\u001b[0m\u001b[0;34m\u001b[0m\u001b[0m\n\u001b[0m\u001b[1;32m      9\u001b[0m     \u001b[0maccuracy\u001b[0m \u001b[0;34m=\u001b[0m \u001b[0maccuracy_score\u001b[0m\u001b[0;34m(\u001b[0m\u001b[0my_valid\u001b[0m\u001b[0;34m,\u001b[0m \u001b[0my_predicted\u001b[0m\u001b[0;34m)\u001b[0m\u001b[0;34m\u001b[0m\u001b[0;34m\u001b[0m\u001b[0m\n\u001b[1;32m     10\u001b[0m \u001b[0;34m\u001b[0m\u001b[0m\n",
      "\u001b[0;32m~/anaconda3/lib/python3.7/site-packages/sklearn/tree/tree.py\u001b[0m in \u001b[0;36mpredict\u001b[0;34m(self, X, check_input)\u001b[0m\n\u001b[1;32m    428\u001b[0m         \"\"\"\n\u001b[1;32m    429\u001b[0m         \u001b[0mcheck_is_fitted\u001b[0m\u001b[0;34m(\u001b[0m\u001b[0mself\u001b[0m\u001b[0;34m,\u001b[0m \u001b[0;34m'tree_'\u001b[0m\u001b[0;34m)\u001b[0m\u001b[0;34m\u001b[0m\u001b[0;34m\u001b[0m\u001b[0m\n\u001b[0;32m--> 430\u001b[0;31m         \u001b[0mX\u001b[0m \u001b[0;34m=\u001b[0m \u001b[0mself\u001b[0m\u001b[0;34m.\u001b[0m\u001b[0m_validate_X_predict\u001b[0m\u001b[0;34m(\u001b[0m\u001b[0mX\u001b[0m\u001b[0;34m,\u001b[0m \u001b[0mcheck_input\u001b[0m\u001b[0;34m)\u001b[0m\u001b[0;34m\u001b[0m\u001b[0;34m\u001b[0m\u001b[0m\n\u001b[0m\u001b[1;32m    431\u001b[0m         \u001b[0mproba\u001b[0m \u001b[0;34m=\u001b[0m \u001b[0mself\u001b[0m\u001b[0;34m.\u001b[0m\u001b[0mtree_\u001b[0m\u001b[0;34m.\u001b[0m\u001b[0mpredict\u001b[0m\u001b[0;34m(\u001b[0m\u001b[0mX\u001b[0m\u001b[0;34m)\u001b[0m\u001b[0;34m\u001b[0m\u001b[0;34m\u001b[0m\u001b[0m\n\u001b[1;32m    432\u001b[0m         \u001b[0mn_samples\u001b[0m \u001b[0;34m=\u001b[0m \u001b[0mX\u001b[0m\u001b[0;34m.\u001b[0m\u001b[0mshape\u001b[0m\u001b[0;34m[\u001b[0m\u001b[0;36m0\u001b[0m\u001b[0;34m]\u001b[0m\u001b[0;34m\u001b[0m\u001b[0;34m\u001b[0m\u001b[0m\n",
      "\u001b[0;32m~/anaconda3/lib/python3.7/site-packages/sklearn/tree/tree.py\u001b[0m in \u001b[0;36m_validate_X_predict\u001b[0;34m(self, X, check_input)\u001b[0m\n\u001b[1;32m    400\u001b[0m                              \u001b[0;34m\"match the input. Model n_features is %s and \"\u001b[0m\u001b[0;34m\u001b[0m\u001b[0;34m\u001b[0m\u001b[0m\n\u001b[1;32m    401\u001b[0m                              \u001b[0;34m\"input n_features is %s \"\u001b[0m\u001b[0;34m\u001b[0m\u001b[0;34m\u001b[0m\u001b[0m\n\u001b[0;32m--> 402\u001b[0;31m                              % (self.n_features_, n_features))\n\u001b[0m\u001b[1;32m    403\u001b[0m \u001b[0;34m\u001b[0m\u001b[0m\n\u001b[1;32m    404\u001b[0m         \u001b[0;32mreturn\u001b[0m \u001b[0mX\u001b[0m\u001b[0;34m\u001b[0m\u001b[0;34m\u001b[0m\u001b[0m\n",
      "\u001b[0;31mValueError\u001b[0m: Number of features of the model must match the input. Model n_features is 29824 and input n_features is 35822 "
     ]
    }
   ],
   "source": [
    "raw_accuracy, raw_precision, raw_recall, raw_f1 = Model_Score(X, y, X_valid, DecisionTreeClassifier())\n",
    "\n",
    "# reduce irrelevant samples\n",
    "R_accuracy, R_precision, R_recall, R_f1 = Model_Score(R_X, R_y, R_X_valid, DecisionTreeClassifier())\n",
    "\n",
    "# Icreasing the minor classes\n",
    "I_accuracy, I_precision, I_recall, I_f1 = Model_Score(I_X, I_y, I_X_valid, DecisionTreeClassifier())\n",
    "\n",
    "# Try considering stop words\n",
    "s_accuracy, s_precision, s_recall, s_f1 = Model_Score(s_X, s_y, s_X_valid, DecisionTreeClassifier())"
   ]
  },
  {
   "cell_type": "code",
   "execution_count": 43,
   "metadata": {},
   "outputs": [],
   "source": [
    "X_train, X_valid, y_train, y_valid = train_test_split(s_X,s_y, test_size=0.20, random_state=42)\n",
    "clf = DecisionTreeClassifier()\n",
    "\n",
    "clf = clf.fit(X_train,y_train)\n",
    "\n",
    "y_predicted = clf.predict(X_valid)\n",
    "\n",
    "#print(\"Accuracy:\",accuracy_score(y_valid, y_predicted))\n",
    "#print(\"Precision:\",precision_score(y_valid, y_predicted, average = \"macro\"))\n",
    "#print(\"Recall:\",recall_score(y_valid, y_predicted, average = \"macro\"))\n",
    "#print(\"f1:\",f1_score(y_valid, y_predicted, average = \"macro\"))"
   ]
  },
  {
   "cell_type": "code",
   "execution_count": 50,
   "metadata": {},
   "outputs": [
    {
     "name": "stdout",
     "output_type": "stream",
     "text": [
      "====================================================================================\n",
      "Decsision Tree using raw data:\n",
      "accuracy:  0.714\n",
      "precision: 0.5117374545940743\n",
      "recall:    0.5203505590519321\n",
      "f1:        0.4987327609084799\n",
      "====================================================================================\n",
      "Decision Tree irrelevant classes:\n",
      "accuracy:  0.6536189069423929\n",
      "precision: 0.5517419931968679\n",
      "recall:    0.5763876602547499\n",
      "f1:        0.5601164681260884\n",
      "====================================================================================\n",
      "Decision Tree increasing minor classes:\n",
      "accuracy:  0.9130548988705017\n",
      "precision: 0.8953737156383645\n",
      "recall:    0.9491920688247649\n",
      "f1:        0.919409961592923\n",
      "====================================================================================\n",
      "Decision Tree using minorcalsses with stop words:\n",
      "accuracy:  0.9072760703966378\n",
      "precision: 0.8795603024538944\n",
      "recall:    0.9464466679184834\n",
      "f1:        0.9088671887099093\n"
     ]
    }
   ],
   "source": [
    "print(\"====================================================================================\")\n",
    "\n",
    "print(\"Decsision Tree using raw data:\\naccuracy:  \" + str(raw_accuracy) +\n",
    "     \"\\nprecision: \" + str(raw_precision) + \"\\nrecall:    \" + str(raw_recall) + \"\\nf1:        \" +\n",
    "     str(raw_f1))\n",
    "print(\"====================================================================================\")\n",
    "\n",
    "print(\"Decision Tree irrelevant classes:\\naccuracy:  \" + str(R_accuracy) +\n",
    "     \"\\nprecision: \" + str(R_precision) + \"\\nrecall:    \" + str(R_recall) + \"\\nf1:        \" +\n",
    "     str(R_f1))\n",
    "print(\"====================================================================================\")\n",
    "\n",
    "print(\"Decision Tree increasing minor classes:\\naccuracy:  \" + str(I_accuracy) +\n",
    "     \"\\nprecision: \" + str(I_precision) + \"\\nrecall:    \" + str(I_recall) + \"\\nf1:        \" +\n",
    "     str(I_f1))\n",
    "print(\"====================================================================================\")\n",
    "\n",
    "print(\"Decision Tree using minorcalsses with stop words:\\naccuracy:  \" + str(s_accuracy) +\n",
    "     \"\\nprecision: \" + str(s_precision) + \"\\nrecall:    \" + str(s_recall) + \"\\nf1:        \" +\n",
    "     str(s_f1))"
   ]
  },
  {
   "cell_type": "code",
   "execution_count": null,
   "metadata": {},
   "outputs": [],
   "source": [
    "len(y_valid)"
   ]
  },
  {
   "cell_type": "code",
   "execution_count": null,
   "metadata": {},
   "outputs": [],
   "source": []
  }
 ],
 "metadata": {
  "kernelspec": {
   "display_name": "Python 3",
   "language": "python",
   "name": "python3"
  },
  "language_info": {
   "codemirror_mode": {
    "name": "ipython",
    "version": 3
   },
   "file_extension": ".py",
   "mimetype": "text/x-python",
   "name": "python",
   "nbconvert_exporter": "python",
   "pygments_lexer": "ipython3",
   "version": "3.7.4"
  }
 },
 "nbformat": 4,
 "nbformat_minor": 2
}
